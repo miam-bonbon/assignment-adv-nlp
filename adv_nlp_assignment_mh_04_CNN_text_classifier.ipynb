{
  "nbformat": 4,
  "nbformat_minor": 0,
  "metadata": {
    "colab": {
      "provenance": [],
      "gpuType": "T4",
      "authorship_tag": "ABX9TyMLF/N3PGVnB2MR+npVRJ2e"
    },
    "kernelspec": {
      "name": "python3",
      "display_name": "Python 3"
    },
    "language_info": {
      "name": "python"
    },
    "accelerator": "GPU"
  },
  "cells": [
    {
      "cell_type": "markdown",
      "source": [
        "# CNN Text Classifier\n",
        "\n",
        "by Michael Hunziker\n",
        "\n",
        "## Summary\n",
        "The aim of this notebook is to train a CNN text classifier for our predictions.\n",
        "\n",
        "\n",
        "*   Prepare Dataset\n",
        "*   Extract the vocabulary\n",
        "*   Use Keras TextVectorization layer for text vectorysation\n",
        "*   Use fasttext for the word embeddings\n",
        "*   Build a CNN model\n",
        "*   Evaluate and improve the model\n",
        "\n",
        "\n",
        "</br>\n",
        "\n",
        "<a href=\"https://colab.research.google.com/github/miam-bonbon/assignment-adv-nlp/blob/main/adv_nlp_assignment_mh_04_CNN_text_classifier.ipynb\" target=\"_parent\"><img src=\"https://colab.research.google.com/assets/colab-badge.svg\" alt=\"Open In Colab\"/></a>"
      ],
      "metadata": {
        "id": "BqHbgS6dYtks"
      }
    },
    {
      "cell_type": "markdown",
      "source": [
        "Let's do some imports"
      ],
      "metadata": {
        "id": "SCN2Ty9LYtXr"
      }
    },
    {
      "cell_type": "code",
      "source": [
        "%%capture\n",
        "\n",
        "!pip install 'fhnw-nlp-utils>=0.9.8,<0.10.0'\n",
        "\n",
        "from fhnw.nlp.utils.storage import load_dataframe\n",
        "from fhnw.nlp.utils.storage import download\n",
        "from fhnw.nlp.utils.system import set_log_level\n",
        "from fhnw.nlp.utils.colab import runs_on_colab\n",
        "\n",
        "# should prevent verbose logging\n",
        "set_log_level(2)\n",
        "\n",
        "import pandas as pd\n",
        "import numpy as np\n",
        "import tensorflow as tf"
      ],
      "metadata": {
        "id": "u2vI0bHgPqlX"
      },
      "execution_count": null,
      "outputs": []
    },
    {
      "cell_type": "code",
      "source": [
        "from fhnw.nlp.utils.system import system_info\n",
        "print(system_info())"
      ],
      "metadata": {
        "colab": {
          "base_uri": "https://localhost:8080/"
        },
        "id": "rQl87wqmP1D6",
        "outputId": "edc1297b-49e0-491a-d307-167a09bdfd42"
      },
      "execution_count": null,
      "outputs": [
        {
          "output_type": "stream",
          "name": "stdout",
          "text": [
            "OS name: posix\n",
            "Platform name: Linux\n",
            "Platform release: 6.1.85+\n",
            "Python version: 3.10.12\n",
            "CPU brand: Intel(R) Xeon(R) CPU @ 2.00GHz\n",
            "CPU cores: 1\n",
            "RAM: 12.67GB total and 11.49GB available\n",
            "Tensorflow version: 2.17.1\n",
            "GPU is available\n"
          ]
        }
      ]
    },
    {
      "cell_type": "code",
      "source": [
        "# create a DEV variable to use later\n",
        "DEV = True"
      ],
      "metadata": {
        "id": "SyHZUiz0slbd"
      },
      "execution_count": null,
      "outputs": []
    },
    {
      "cell_type": "code",
      "source": [
        "%%time\n",
        "\n",
        "!rm \"./data/COVIDSenti_tokenized_02.parq\"\n",
        "\n",
        "download(\"https://github.com/miam-bonbon/assignment-adv-nlp/raw/refs/heads/main/data/COVIDSenti_tokenized_02.parq\", \"data/COVIDSenti_tokenized_02.parq\")\n",
        "data = load_dataframe(\"data/COVIDSenti_tokenized_02.parq\")\n",
        "data.shape"
      ],
      "metadata": {
        "colab": {
          "base_uri": "https://localhost:8080/"
        },
        "id": "_6HNHGQlsmJR",
        "outputId": "1ee15181-6631-4ebe-e03d-1636d9734b6e"
      },
      "execution_count": null,
      "outputs": [
        {
          "output_type": "stream",
          "name": "stdout",
          "text": [
            "rm: cannot remove './data/COVIDSenti_tokenized_02.parq': No such file or directory\n",
            "CPU times: user 654 ms, sys: 102 ms, total: 756 ms\n",
            "Wall time: 3.63 s\n"
          ]
        },
        {
          "output_type": "execute_result",
          "data": {
            "text/plain": [
              "(22516, 8)"
            ]
          },
          "metadata": {},
          "execution_count": 4
        }
      ]
    },
    {
      "cell_type": "code",
      "source": [
        "data.head(3)"
      ],
      "metadata": {
        "colab": {
          "base_uri": "https://localhost:8080/",
          "height": 248
        },
        "id": "PurTIXhUfRio",
        "outputId": "fb1f21b9-ac43-46fc-f077-6833db793aea"
      },
      "execution_count": null,
      "outputs": [
        {
          "output_type": "execute_result",
          "data": {
            "text/plain": [
              "                                                tweet label  \\\n",
              "2   TLDR: Not SARS, possibly new coronavirus. Diff...   neg   \n",
              "8   @tezuma75 Why #CCP keep on saying unknown caus...   neg   \n",
              "11  I always feel weird hoping for another coronav...   neg   \n",
              "\n",
              "                                        cleaned_tweet lang  \\\n",
              "2   TLDR: Not SARS, possibly new coronavirus. Diff...   en   \n",
              "8    Why #CCP keep on saying unknown cause of pneu...   en   \n",
              "11  I always feel weird hoping for another coronav...   en   \n",
              "\n",
              "                                          token_clean  \\\n",
              "2   [tldr, :, sars, ,, possibly, new, coronavirus,...   \n",
              "8   [#, ccp, keep, saying, unknown, cause, pneumon...   \n",
              "11  [always, feel, weird, hoping, another, coronav...   \n",
              "\n",
              "                             token_no_stopwords_clean  \\\n",
              "2   [tldr, :, not, sars, ,, possibly, new, coronav...   \n",
              "8   [why, #, ccp, keep, on, saying, unknown, cause...   \n",
              "11  [i, always, feel, weird, hoping, for, another,...   \n",
              "\n",
              "                                           text_clean  \\\n",
              "2   tldr : sars , possibly new coronavirus . diffi...   \n",
              "8   # ccp keep saying unknown cause pneumonia ? ca...   \n",
              "11  always feel weird hoping another coronavirus o...   \n",
              "\n",
              "                           token_clean_tweet_tokenize  \n",
              "2   [tldr, :, sars, ,, possibly, new, coronavirus,...  \n",
              "8   [#ccp, keep, saying, unknown, cause, pneumonia...  \n",
              "11  [always, feel, weird, hoping, another, coronav...  "
            ],
            "text/html": [
              "\n",
              "  <div id=\"df-325a4e75-1a1d-4a48-90d0-6c860e4881b9\" class=\"colab-df-container\">\n",
              "    <div>\n",
              "<style scoped>\n",
              "    .dataframe tbody tr th:only-of-type {\n",
              "        vertical-align: middle;\n",
              "    }\n",
              "\n",
              "    .dataframe tbody tr th {\n",
              "        vertical-align: top;\n",
              "    }\n",
              "\n",
              "    .dataframe thead th {\n",
              "        text-align: right;\n",
              "    }\n",
              "</style>\n",
              "<table border=\"1\" class=\"dataframe\">\n",
              "  <thead>\n",
              "    <tr style=\"text-align: right;\">\n",
              "      <th></th>\n",
              "      <th>tweet</th>\n",
              "      <th>label</th>\n",
              "      <th>cleaned_tweet</th>\n",
              "      <th>lang</th>\n",
              "      <th>token_clean</th>\n",
              "      <th>token_no_stopwords_clean</th>\n",
              "      <th>text_clean</th>\n",
              "      <th>token_clean_tweet_tokenize</th>\n",
              "    </tr>\n",
              "  </thead>\n",
              "  <tbody>\n",
              "    <tr>\n",
              "      <th>2</th>\n",
              "      <td>TLDR: Not SARS, possibly new coronavirus. Diff...</td>\n",
              "      <td>neg</td>\n",
              "      <td>TLDR: Not SARS, possibly new coronavirus. Diff...</td>\n",
              "      <td>en</td>\n",
              "      <td>[tldr, :, sars, ,, possibly, new, coronavirus,...</td>\n",
              "      <td>[tldr, :, not, sars, ,, possibly, new, coronav...</td>\n",
              "      <td>tldr : sars , possibly new coronavirus . diffi...</td>\n",
              "      <td>[tldr, :, sars, ,, possibly, new, coronavirus,...</td>\n",
              "    </tr>\n",
              "    <tr>\n",
              "      <th>8</th>\n",
              "      <td>@tezuma75 Why #CCP keep on saying unknown caus...</td>\n",
              "      <td>neg</td>\n",
              "      <td>Why #CCP keep on saying unknown cause of pneu...</td>\n",
              "      <td>en</td>\n",
              "      <td>[#, ccp, keep, saying, unknown, cause, pneumon...</td>\n",
              "      <td>[why, #, ccp, keep, on, saying, unknown, cause...</td>\n",
              "      <td># ccp keep saying unknown cause pneumonia ? ca...</td>\n",
              "      <td>[#ccp, keep, saying, unknown, cause, pneumonia...</td>\n",
              "    </tr>\n",
              "    <tr>\n",
              "      <th>11</th>\n",
              "      <td>I always feel weird hoping for another coronav...</td>\n",
              "      <td>neg</td>\n",
              "      <td>I always feel weird hoping for another coronav...</td>\n",
              "      <td>en</td>\n",
              "      <td>[always, feel, weird, hoping, another, coronav...</td>\n",
              "      <td>[i, always, feel, weird, hoping, for, another,...</td>\n",
              "      <td>always feel weird hoping another coronavirus o...</td>\n",
              "      <td>[always, feel, weird, hoping, another, coronav...</td>\n",
              "    </tr>\n",
              "  </tbody>\n",
              "</table>\n",
              "</div>\n",
              "    <div class=\"colab-df-buttons\">\n",
              "\n",
              "  <div class=\"colab-df-container\">\n",
              "    <button class=\"colab-df-convert\" onclick=\"convertToInteractive('df-325a4e75-1a1d-4a48-90d0-6c860e4881b9')\"\n",
              "            title=\"Convert this dataframe to an interactive table.\"\n",
              "            style=\"display:none;\">\n",
              "\n",
              "  <svg xmlns=\"http://www.w3.org/2000/svg\" height=\"24px\" viewBox=\"0 -960 960 960\">\n",
              "    <path d=\"M120-120v-720h720v720H120Zm60-500h600v-160H180v160Zm220 220h160v-160H400v160Zm0 220h160v-160H400v160ZM180-400h160v-160H180v160Zm440 0h160v-160H620v160ZM180-180h160v-160H180v160Zm440 0h160v-160H620v160Z\"/>\n",
              "  </svg>\n",
              "    </button>\n",
              "\n",
              "  <style>\n",
              "    .colab-df-container {\n",
              "      display:flex;\n",
              "      gap: 12px;\n",
              "    }\n",
              "\n",
              "    .colab-df-convert {\n",
              "      background-color: #E8F0FE;\n",
              "      border: none;\n",
              "      border-radius: 50%;\n",
              "      cursor: pointer;\n",
              "      display: none;\n",
              "      fill: #1967D2;\n",
              "      height: 32px;\n",
              "      padding: 0 0 0 0;\n",
              "      width: 32px;\n",
              "    }\n",
              "\n",
              "    .colab-df-convert:hover {\n",
              "      background-color: #E2EBFA;\n",
              "      box-shadow: 0px 1px 2px rgba(60, 64, 67, 0.3), 0px 1px 3px 1px rgba(60, 64, 67, 0.15);\n",
              "      fill: #174EA6;\n",
              "    }\n",
              "\n",
              "    .colab-df-buttons div {\n",
              "      margin-bottom: 4px;\n",
              "    }\n",
              "\n",
              "    [theme=dark] .colab-df-convert {\n",
              "      background-color: #3B4455;\n",
              "      fill: #D2E3FC;\n",
              "    }\n",
              "\n",
              "    [theme=dark] .colab-df-convert:hover {\n",
              "      background-color: #434B5C;\n",
              "      box-shadow: 0px 1px 3px 1px rgba(0, 0, 0, 0.15);\n",
              "      filter: drop-shadow(0px 1px 2px rgba(0, 0, 0, 0.3));\n",
              "      fill: #FFFFFF;\n",
              "    }\n",
              "  </style>\n",
              "\n",
              "    <script>\n",
              "      const buttonEl =\n",
              "        document.querySelector('#df-325a4e75-1a1d-4a48-90d0-6c860e4881b9 button.colab-df-convert');\n",
              "      buttonEl.style.display =\n",
              "        google.colab.kernel.accessAllowed ? 'block' : 'none';\n",
              "\n",
              "      async function convertToInteractive(key) {\n",
              "        const element = document.querySelector('#df-325a4e75-1a1d-4a48-90d0-6c860e4881b9');\n",
              "        const dataTable =\n",
              "          await google.colab.kernel.invokeFunction('convertToInteractive',\n",
              "                                                    [key], {});\n",
              "        if (!dataTable) return;\n",
              "\n",
              "        const docLinkHtml = 'Like what you see? Visit the ' +\n",
              "          '<a target=\"_blank\" href=https://colab.research.google.com/notebooks/data_table.ipynb>data table notebook</a>'\n",
              "          + ' to learn more about interactive tables.';\n",
              "        element.innerHTML = '';\n",
              "        dataTable['output_type'] = 'display_data';\n",
              "        await google.colab.output.renderOutput(dataTable, element);\n",
              "        const docLink = document.createElement('div');\n",
              "        docLink.innerHTML = docLinkHtml;\n",
              "        element.appendChild(docLink);\n",
              "      }\n",
              "    </script>\n",
              "  </div>\n",
              "\n",
              "\n",
              "<div id=\"df-fd63b4cd-5e28-44a9-accc-ca233e13ebd9\">\n",
              "  <button class=\"colab-df-quickchart\" onclick=\"quickchart('df-fd63b4cd-5e28-44a9-accc-ca233e13ebd9')\"\n",
              "            title=\"Suggest charts\"\n",
              "            style=\"display:none;\">\n",
              "\n",
              "<svg xmlns=\"http://www.w3.org/2000/svg\" height=\"24px\"viewBox=\"0 0 24 24\"\n",
              "     width=\"24px\">\n",
              "    <g>\n",
              "        <path d=\"M19 3H5c-1.1 0-2 .9-2 2v14c0 1.1.9 2 2 2h14c1.1 0 2-.9 2-2V5c0-1.1-.9-2-2-2zM9 17H7v-7h2v7zm4 0h-2V7h2v10zm4 0h-2v-4h2v4z\"/>\n",
              "    </g>\n",
              "</svg>\n",
              "  </button>\n",
              "\n",
              "<style>\n",
              "  .colab-df-quickchart {\n",
              "      --bg-color: #E8F0FE;\n",
              "      --fill-color: #1967D2;\n",
              "      --hover-bg-color: #E2EBFA;\n",
              "      --hover-fill-color: #174EA6;\n",
              "      --disabled-fill-color: #AAA;\n",
              "      --disabled-bg-color: #DDD;\n",
              "  }\n",
              "\n",
              "  [theme=dark] .colab-df-quickchart {\n",
              "      --bg-color: #3B4455;\n",
              "      --fill-color: #D2E3FC;\n",
              "      --hover-bg-color: #434B5C;\n",
              "      --hover-fill-color: #FFFFFF;\n",
              "      --disabled-bg-color: #3B4455;\n",
              "      --disabled-fill-color: #666;\n",
              "  }\n",
              "\n",
              "  .colab-df-quickchart {\n",
              "    background-color: var(--bg-color);\n",
              "    border: none;\n",
              "    border-radius: 50%;\n",
              "    cursor: pointer;\n",
              "    display: none;\n",
              "    fill: var(--fill-color);\n",
              "    height: 32px;\n",
              "    padding: 0;\n",
              "    width: 32px;\n",
              "  }\n",
              "\n",
              "  .colab-df-quickchart:hover {\n",
              "    background-color: var(--hover-bg-color);\n",
              "    box-shadow: 0 1px 2px rgba(60, 64, 67, 0.3), 0 1px 3px 1px rgba(60, 64, 67, 0.15);\n",
              "    fill: var(--button-hover-fill-color);\n",
              "  }\n",
              "\n",
              "  .colab-df-quickchart-complete:disabled,\n",
              "  .colab-df-quickchart-complete:disabled:hover {\n",
              "    background-color: var(--disabled-bg-color);\n",
              "    fill: var(--disabled-fill-color);\n",
              "    box-shadow: none;\n",
              "  }\n",
              "\n",
              "  .colab-df-spinner {\n",
              "    border: 2px solid var(--fill-color);\n",
              "    border-color: transparent;\n",
              "    border-bottom-color: var(--fill-color);\n",
              "    animation:\n",
              "      spin 1s steps(1) infinite;\n",
              "  }\n",
              "\n",
              "  @keyframes spin {\n",
              "    0% {\n",
              "      border-color: transparent;\n",
              "      border-bottom-color: var(--fill-color);\n",
              "      border-left-color: var(--fill-color);\n",
              "    }\n",
              "    20% {\n",
              "      border-color: transparent;\n",
              "      border-left-color: var(--fill-color);\n",
              "      border-top-color: var(--fill-color);\n",
              "    }\n",
              "    30% {\n",
              "      border-color: transparent;\n",
              "      border-left-color: var(--fill-color);\n",
              "      border-top-color: var(--fill-color);\n",
              "      border-right-color: var(--fill-color);\n",
              "    }\n",
              "    40% {\n",
              "      border-color: transparent;\n",
              "      border-right-color: var(--fill-color);\n",
              "      border-top-color: var(--fill-color);\n",
              "    }\n",
              "    60% {\n",
              "      border-color: transparent;\n",
              "      border-right-color: var(--fill-color);\n",
              "    }\n",
              "    80% {\n",
              "      border-color: transparent;\n",
              "      border-right-color: var(--fill-color);\n",
              "      border-bottom-color: var(--fill-color);\n",
              "    }\n",
              "    90% {\n",
              "      border-color: transparent;\n",
              "      border-bottom-color: var(--fill-color);\n",
              "    }\n",
              "  }\n",
              "</style>\n",
              "\n",
              "  <script>\n",
              "    async function quickchart(key) {\n",
              "      const quickchartButtonEl =\n",
              "        document.querySelector('#' + key + ' button');\n",
              "      quickchartButtonEl.disabled = true;  // To prevent multiple clicks.\n",
              "      quickchartButtonEl.classList.add('colab-df-spinner');\n",
              "      try {\n",
              "        const charts = await google.colab.kernel.invokeFunction(\n",
              "            'suggestCharts', [key], {});\n",
              "      } catch (error) {\n",
              "        console.error('Error during call to suggestCharts:', error);\n",
              "      }\n",
              "      quickchartButtonEl.classList.remove('colab-df-spinner');\n",
              "      quickchartButtonEl.classList.add('colab-df-quickchart-complete');\n",
              "    }\n",
              "    (() => {\n",
              "      let quickchartButtonEl =\n",
              "        document.querySelector('#df-fd63b4cd-5e28-44a9-accc-ca233e13ebd9 button');\n",
              "      quickchartButtonEl.style.display =\n",
              "        google.colab.kernel.accessAllowed ? 'block' : 'none';\n",
              "    })();\n",
              "  </script>\n",
              "</div>\n",
              "\n",
              "    </div>\n",
              "  </div>\n"
            ],
            "application/vnd.google.colaboratory.intrinsic+json": {
              "type": "dataframe",
              "variable_name": "data",
              "summary": "{\n  \"name\": \"data\",\n  \"rows\": 22516,\n  \"fields\": [\n    {\n      \"column\": \"tweet\",\n      \"properties\": {\n        \"dtype\": \"string\",\n        \"num_unique_values\": 22449,\n        \"samples\": [\n          \"\\\"Politics, coronavirus, why me? I wear a baseball cap and have a bad shave.\\\" If Jurgen Klopp told me to rub myself\\u201a\\u00c4\\u00b6 https://t.co/jmclDqR8wA\",\n          \"East African airlines Kenya Airways and Rwandair suspend China flights due to coronavirus. \\uf8ff\\u00fc\\u00e1\\u221e\\uf8ff\\u00fc\\u00e1\\u2122\\uf8ff\\u00fc\\u00e1\\u2211\\uf8ff\\u00fc\\u00e1\\u00ba\\uf8ff\\u00fc\\u00e1\\u00ae\\uf8ff\\u00fc\\u00e1\\u2265\\uf8ff\\u00fc\\u00f5\\u00a8#KenyaAirways\\u201a\\u00c4\\u00b6 https://t.co/zRjvFr6A8w\",\n          \"BREAKING: Democrats claim Trump is too \\\"afraid\\\" to get Coronavirus. Wait patiently.\"\n        ],\n        \"semantic_type\": \"\",\n        \"description\": \"\"\n      }\n    },\n    {\n      \"column\": \"label\",\n      \"properties\": {\n        \"dtype\": \"category\",\n        \"num_unique_values\": 2,\n        \"samples\": [\n          \"pos\",\n          \"neg\"\n        ],\n        \"semantic_type\": \"\",\n        \"description\": \"\"\n      }\n    },\n    {\n      \"column\": \"cleaned_tweet\",\n      \"properties\": {\n        \"dtype\": \"string\",\n        \"num_unique_values\": 21741,\n        \"samples\": [\n          \"Series Mania TV festival and industry event cancelled due to coronavirus \",\n          \"A -year-old Americans tense trip through China, fleeing the coronavirus. I took my mask off for five seconds an \"\n        ],\n        \"semantic_type\": \"\",\n        \"description\": \"\"\n      }\n    },\n    {\n      \"column\": \"lang\",\n      \"properties\": {\n        \"dtype\": \"category\",\n        \"num_unique_values\": 1,\n        \"samples\": [\n          \"en\"\n        ],\n        \"semantic_type\": \"\",\n        \"description\": \"\"\n      }\n    },\n    {\n      \"column\": \"token_clean\",\n      \"properties\": {\n        \"dtype\": \"object\",\n        \"semantic_type\": \"\",\n        \"description\": \"\"\n      }\n    },\n    {\n      \"column\": \"token_no_stopwords_clean\",\n      \"properties\": {\n        \"dtype\": \"object\",\n        \"semantic_type\": \"\",\n        \"description\": \"\"\n      }\n    },\n    {\n      \"column\": \"text_clean\",\n      \"properties\": {\n        \"dtype\": \"string\",\n        \"num_unique_values\": 21605,\n        \"samples\": [\n          \"wake failures diamond princess dr. grant tarling step . # princesscruises # coronavirus\"\n        ],\n        \"semantic_type\": \"\",\n        \"description\": \"\"\n      }\n    },\n    {\n      \"column\": \"token_clean_tweet_tokenize\",\n      \"properties\": {\n        \"dtype\": \"object\",\n        \"semantic_type\": \"\",\n        \"description\": \"\"\n      }\n    }\n  ]\n}"
            }
          },
          "metadata": {},
          "execution_count": 5
        }
      ]
    },
    {
      "cell_type": "markdown",
      "metadata": {
        "id": "tMQw16HvREZm"
      },
      "source": [
        "Import some helper functions (later we will overwrite some functions in order to provide a better understanding of the process)..."
      ]
    },
    {
      "cell_type": "code",
      "execution_count": null,
      "metadata": {
        "id": "hCuNtqVzREZm"
      },
      "outputs": [],
      "source": [
        "from fhnw.nlp.utils.ploting import plot_history\n",
        "from fhnw.nlp.utils.ploting import report_classification_results\n",
        "\n",
        "from fhnw.nlp.utils.params import build_model_cnn\n",
        "from fhnw.nlp.utils.params import build_model_rnn\n",
        "from fhnw.nlp.utils.params import build_preprocessed_dataset\n",
        "from fhnw.nlp.utils.params import compile_model\n",
        "from fhnw.nlp.utils.params import create_label_binarizer_and_set\n",
        "from fhnw.nlp.utils.params import create_text_preprocessor\n",
        "from fhnw.nlp.utils.params import dataframe_to_dataset\n",
        "from fhnw.nlp.utils.params import extract_embedding_layer_and_set\n",
        "from fhnw.nlp.utils.params import extract_text_vectorization_and_set\n",
        "from fhnw.nlp.utils.params import extract_vocabulary_and_set\n",
        "from fhnw.nlp.utils.params import get_train_test_split\n",
        "from fhnw.nlp.utils.params import predict_classification\n",
        "from fhnw.nlp.utils.params import re_compile_model\n",
        "from fhnw.nlp.utils.params import save_model\n",
        "from fhnw.nlp.utils.params import train_model"
      ]
    },
    {
      "cell_type": "markdown",
      "metadata": {
        "id": "guDfylmNREZm"
      },
      "source": [
        "Setup the *params* dictionary which is used to specify hyperparameters and model design choices (and is also used to store intermediate results).  This sets the stage for a possible hyperparameter tuning and model design optimization (not part of this notebook)."
      ]
    },
    {
      "cell_type": "code",
      "execution_count": null,
      "metadata": {
        "id": "abJp5w1CREZm"
      },
      "outputs": [],
      "source": [
        "params = {\n",
        "    \"verbose\": True,\n",
        "    \"shuffle\": True,\n",
        "    # modify batch_size in case you experience memory issues\n",
        "    \"batch_size\": 128,\n",
        "    \"X_column_name\": \"token_clean_tweet_tokenize\",\n",
        "    \"y_column_name\": \"label\",\n",
        "}\n",
        "\n",
        "if runs_on_colab():\n",
        "    # colab as problems handling such large files\n",
        "    model_name = \"cc.de.50.bin\"\n",
        "    download(\"https://drive.switch.ch/index.php/s/fncH84BgISMlT3v/download\", model_name)\n",
        "    params[\"embedding_dim\"] = 50\n",
        "    params[\"embedding_fasttext_model\"] = model_name"
      ]
    },
    {
      "cell_type": "markdown",
      "metadata": {
        "id": "SG2z6NqPREZm"
      },
      "source": [
        "...extract the vocabulary..."
      ]
    },
    {
      "cell_type": "code",
      "execution_count": null,
      "metadata": {
        "id": "QWf94CvvREZm",
        "outputId": "6082a169-70df-4c1e-84c1-a9fd8bf53a2d",
        "colab": {
          "base_uri": "https://localhost:8080/"
        }
      },
      "outputs": [
        {
          "output_type": "stream",
          "name": "stdout",
          "text": [
            "Inferred classification type: binary\n",
            "Median sequence length: 11\n",
            "Percentil (0.98) cutoff sequence length: 18\n",
            "Max sequence length: 36\n",
            "Used embedding sequence length: 18\n"
          ]
        }
      ],
      "source": [
        "create_label_binarizer_and_set(params, data)\n",
        "extract_vocabulary_and_set(params, data)"
      ]
    },
    {
      "cell_type": "markdown",
      "source": [
        "Is this right? We check our current data in excel"
      ],
      "metadata": {
        "id": "DTVeuHUeS_YP"
      }
    },
    {
      "cell_type": "code",
      "source": [
        "# from google.colab import drive\n",
        "# drive.mount('/content/drive')\n",
        "# csv_file_path = '/content/drive/My Drive/COVIDSenti_tokenized_02.csv'\n",
        "\n",
        "# data.to_csv(csv_file_path, index=False)  # index=False prevents writing row indices to the file\n",
        "\n",
        "# print(f\"DataFrame saved to: {csv_file_path}\")"
      ],
      "metadata": {
        "id": "5esN6RJWRS0f"
      },
      "execution_count": null,
      "outputs": []
    },
    {
      "cell_type": "markdown",
      "source": [
        "Our tweets are indeed very short on average - let's see if it's still possible"
      ],
      "metadata": {
        "id": "pUyQU8J_Ubhd"
      }
    },
    {
      "cell_type": "markdown",
      "metadata": {
        "id": "KYMQ-WKfREZn"
      },
      "source": [
        "### Keras TextVectorization layer\n",
        "We use the Keras TextVectorization layer - do we have to adapt, because we already tokenized?"
      ]
    },
    {
      "cell_type": "code",
      "execution_count": null,
      "metadata": {
        "id": "48rdI-dhREZn"
      },
      "outputs": [],
      "source": [
        "def extract_text_vectorization_and_set(params):\n",
        "    \"\"\"Creates the TextVectorization layer and a vocabulary iterator and puts them into the params dictionary\n",
        "\n",
        "    Parameters\n",
        "    ----------\n",
        "    params: dict\n",
        "        The dictionary containing the parameters\n",
        "    \"\"\"\n",
        "\n",
        "    from tensorflow.keras.layers import TextVectorization\n",
        "\n",
        "    verbose = params.get(\"verbose\", False)\n",
        "    output_sequence_length = params.get(\"output_sequence_length\", None)\n",
        "    computed_objects_column_name = params.get(\"computed_objects_column_name\", \"computed_objects\")\n",
        "    vocabulary = params.setdefault(computed_objects_column_name, {})[\"vocabulary\"]\n",
        "    if verbose:\n",
        "        print(\"Vocabulary length:\", len(vocabulary))\n",
        "\n",
        "    vectorize_layer = TextVectorization(\n",
        "        output_mode='int',\n",
        "        output_sequence_length=output_sequence_length,\n",
        "        vocabulary=list(vocabulary),\n",
        "        name=\"text_vectorization\"\n",
        "    )\n",
        "\n",
        "    params.setdefault(computed_objects_column_name, {})[\"vocabulary_iterator\"] = vectorize_layer.get_vocabulary()\n",
        "    params.setdefault(computed_objects_column_name, {})[\"vectorize_layer\"] = vectorize_layer\n",
        "\n",
        "    if verbose:\n",
        "        print(\"Vocabulary length:\", vectorize_layer.vocabulary_size())"
      ]
    },
    {
      "cell_type": "markdown",
      "source": [
        "Show our vocabulary"
      ],
      "metadata": {
        "id": "5SIVp64qYptd"
      }
    },
    {
      "cell_type": "code",
      "source": [
        "# # Example usage (assuming params dictionary is already defined and populated as shown in the provided code):\n",
        "# vocabulary = params.get(\"computed_objects\", {}).get(\"vocabulary\")\n",
        "\n",
        "# print(vocabulary)"
      ],
      "metadata": {
        "id": "y7YZxs_SX82U"
      },
      "execution_count": null,
      "outputs": []
    },
    {
      "cell_type": "markdown",
      "source": [
        "It is rather small, but for now we stick with it and cross our fingers</br>\n",
        "We don't have to adapt for tokenized input"
      ],
      "metadata": {
        "id": "1vFqEPmZYyKA"
      }
    },
    {
      "cell_type": "code",
      "source": [
        "# params = {\n",
        "#     \"verbose\": True,\n",
        "#     \"shuffle\": True,\n",
        "#     # modify batch_size in case you experience memory issues\n",
        "#     \"batch_size\": 128,\n",
        "#     \"X_column_name\": \"cleaned_tweet\",\n",
        "#     \"y_column_name\": \"label\",\n",
        "# }\n",
        "\n",
        "# # params[\"X_column_name\"] = \"cleaned_tweet\""
      ],
      "metadata": {
        "id": "5L90WZ5iZO26"
      },
      "execution_count": null,
      "outputs": []
    },
    {
      "cell_type": "code",
      "execution_count": null,
      "metadata": {
        "id": "JepjYcheREZn",
        "outputId": "61539ef3-0727-4e85-b5f6-b47f591ae82e",
        "colab": {
          "base_uri": "https://localhost:8080/"
        }
      },
      "outputs": [
        {
          "output_type": "stream",
          "name": "stdout",
          "text": [
            "Vocabulary length: 21318\n",
            "Vocabulary length: 21320\n"
          ]
        }
      ],
      "source": [
        "extract_text_vectorization_and_set(params)"
      ]
    },
    {
      "cell_type": "markdown",
      "metadata": {
        "id": "vcLgbKCZREZn"
      },
      "source": [
        "Import and load fasttext word embeddings"
      ]
    },
    {
      "cell_type": "code",
      "execution_count": null,
      "metadata": {
        "id": "J83FrMkiREZn"
      },
      "outputs": [],
      "source": [
        "%%capture\n",
        "\n",
        "!pip install fasttext\n",
        "\n",
        "import fasttext\n",
        "import fasttext.util\n",
        "from fhnw.nlp.utils.colab import runs_on_colab\n",
        "\n",
        "ft = fasttext.load_model(model_name)"
      ]
    },
    {
      "cell_type": "code",
      "execution_count": null,
      "metadata": {
        "id": "MzQMndXBREZn"
      },
      "outputs": [],
      "source": [
        "def embed_word(word):\n",
        "    \"\"\"Provides a word embedding\n",
        "\n",
        "    Parameters\n",
        "    ----------\n",
        "    params: word\n",
        "        The word to embed\n",
        "    \"\"\"\n",
        "\n",
        "    return ft.get_word_vector(word)"
      ]
    },
    {
      "cell_type": "code",
      "execution_count": null,
      "metadata": {
        "id": "Ow1lD3ekREZn",
        "outputId": "28c65ea3-c602-4c7d-ac77-e51ed59c1543",
        "colab": {
          "base_uri": "https://localhost:8080/"
        }
      },
      "outputs": [
        {
          "output_type": "execute_result",
          "data": {
            "text/plain": [
              "array([ 0.09722384, -0.05274467,  0.08542345, -0.02933281, -0.04539853,\n",
              "       -0.18771014,  0.07426776, -0.0389236 ,  0.09210618, -0.07337692,\n",
              "       -0.09458771, -0.03889696,  0.11335292, -0.00944096,  0.0892797 ,\n",
              "       -0.00274959,  0.01710366,  0.08693598, -0.15168887, -0.03477636,\n",
              "        0.08259173,  0.03497699,  0.06041843, -0.00122256, -0.0491271 ,\n",
              "        0.12444791,  0.07027173,  0.02479064, -0.05468225,  0.1077033 ,\n",
              "        0.10675941,  0.01451897,  0.10239097, -0.08972849,  0.01779334,\n",
              "       -0.02553169, -0.05870509,  0.03320953,  0.01634877,  0.08483049,\n",
              "       -0.03647982,  0.0168013 , -0.01629123,  0.01967095,  0.01268347,\n",
              "        0.06724217,  0.0327097 , -0.01271273,  0.0581752 ,  0.07247666],\n",
              "      dtype=float32)"
            ]
          },
          "metadata": {},
          "execution_count": 16
        }
      ],
      "source": [
        "embed_word(\"covid\")"
      ]
    },
    {
      "cell_type": "markdown",
      "metadata": {
        "id": "mFifnEgcREZo"
      },
      "source": [
        "### Transforming the Embedding Dictionary to an Embedding Layer\n",
        "To use pre-trained embeddings in your model, map the word indices from the TextVectorizer layer to the word embedding vectors of the pre-trained embeddings. The embedding layer uses this index to find the embeddings and passes them to the next layer.\n",
        "\n",
        "Next, initialize the weights matrix for the embedding layer. The index position of each word in the vocabulary list from TextVectorizer.get_vocabulary() is the index TextVectorizer returns for each word. Set the embedding vector for each word at this index by looping through the words in the TextVectorizer vocabulary and the embedding dictionary. Each word encoding from the TextVectorizer will be the row index in the weights matrix, with the vector accessed for that word from the embedding dictionary."
      ]
    },
    {
      "cell_type": "code",
      "execution_count": null,
      "metadata": {
        "id": "lIWoslxTREZo"
      },
      "outputs": [],
      "source": [
        "def calculate_embedding_matrix(params, embedder):\n",
        "    \"\"\"Creates the embedding matrix\n",
        "\n",
        "    Parameters\n",
        "    ----------\n",
        "    params: dict\n",
        "        The dictionary containing the parameters\n",
        "    embedder: function\n",
        "        The function to get the embedding for a word\n",
        "    \"\"\"\n",
        "\n",
        "    import numpy as np\n",
        "\n",
        "    computed_objects_column_name = params.get(\"computed_objects_column_name\", \"computed_objects\")\n",
        "    vocabulary_iterator = params.setdefault(computed_objects_column_name, {})[\"vocabulary_iterator\"]\n",
        "    tmp_embedding = embedder(\"covid\")\n",
        "\n",
        "    if (tmp_embedding is not None) and len(tmp_embedding) > 0:\n",
        "        embedding_dim = len(tmp_embedding)\n",
        "    else:\n",
        "        embedding_dim = params[\"embedding_dim\"]\n",
        "    voc_size = len(vocabulary_iterator)\n",
        "    words_not_found = set()\n",
        "    embedding_matrix = np.zeros((voc_size, embedding_dim))\n",
        "\n",
        "    for idx, word in enumerate(vocabulary_iterator):\n",
        "        embedding_vector = embedder(word)\n",
        "        if (embedding_vector is not None) and len(embedding_vector) > 0 and not np.all(embedding_vector==0):\n",
        "            # words not found in embedding index will be all-zeros.\n",
        "            embedding_matrix[idx] = embedding_vector\n",
        "        else:\n",
        "            words_not_found.add(word)\n",
        "\n",
        "    if params[\"verbose\"]:\n",
        "        print(\"Embedding type:\", params.get(\"embedding_type\"))\n",
        "        print(\"Number of null word embeddings:\", np.sum(np.sum(embedding_matrix, axis=1) == 0))\n",
        "        nr_words_not_found = len(words_not_found)\n",
        "        print(\"Words not found in total:\", len(words_not_found))\n",
        "        if nr_words_not_found > 0:\n",
        "            import random\n",
        "\n",
        "            nr_sample = min(20, len(words_not_found))\n",
        "            print(\"Words without embedding (\", nr_sample, \"/\", nr_words_not_found, \"): \", random.sample(list(words_not_found), nr_sample), sep='')\n",
        "\n",
        "    return embedding_matrix\n",
        "\n",
        "\n",
        "def extract_embedding_layer_and_set(params):\n",
        "    \"\"\"Creates the Embedding layer and puts it into the params dictionary\n",
        "\n",
        "    Parameters\n",
        "    ----------\n",
        "    params: dict\n",
        "        The dictionary containing the parameters\n",
        "    \"\"\"\n",
        "\n",
        "    import tensorflow as tf\n",
        "    from tensorflow import keras\n",
        "\n",
        "    computed_objects_column_name = params.get(\"computed_objects_column_name\", \"computed_objects\")\n",
        "\n",
        "    embedding_matrix = calculate_embedding_matrix(params, embed_word)\n",
        "    embedding_layer = keras.layers.Embedding(\n",
        "                                          embedding_matrix.shape[0],\n",
        "                                          embedding_matrix.shape[1],\n",
        "                                          weights=[embedding_matrix],\n",
        "                                          #input_length=params[\"embedding_input_sequence_length\"],\n",
        "                                          trainable=params.get(\"embedding_trainable\", False),\n",
        "                                          mask_zero = params.get(\"embedding_mask_zero\", True),\n",
        "                                          name=\"embedding\"\n",
        "                                         )\n",
        "\n",
        "    params.setdefault(computed_objects_column_name, {})[\"embedding_layer\"] = embedding_layer"
      ]
    },
    {
      "cell_type": "code",
      "execution_count": null,
      "metadata": {
        "id": "-_9ifWE7REZo",
        "outputId": "9470cf5e-3050-4568-ab13-41bd60b510e5",
        "colab": {
          "base_uri": "https://localhost:8080/"
        }
      },
      "outputs": [
        {
          "output_type": "stream",
          "name": "stdout",
          "text": [
            "Embedding type: None\n",
            "Number of null word embeddings: 25\n",
            "Words not found in total: 25\n",
            "Words without embedding (20/25): ['~k', '``', '//', ',f', 'h/', '`', '.k', '/s', \"'m\", 'm+', 'a+', \"'s\", '++', '==', '+.', '||', \"'/\", '__', '^^', '']\n",
            "CPU times: user 1.35 s, sys: 41.1 ms, total: 1.39 s\n",
            "Wall time: 1.77 s\n"
          ]
        }
      ],
      "source": [
        "%%time\n",
        "\n",
        "extract_embedding_layer_and_set(params)"
      ]
    },
    {
      "cell_type": "markdown",
      "metadata": {
        "id": "KylrL1e9REZo"
      },
      "source": [
        "Looks good!"
      ]
    },
    {
      "cell_type": "markdown",
      "source": [
        "We need text from the tokens here - maybe dataframe_to_dataset could be adapted for tokens"
      ],
      "metadata": {
        "id": "9tUTRzAKiY89"
      }
    },
    {
      "cell_type": "code",
      "source": [
        "import pandas as pd\n",
        "\n",
        "def list_to_string(tokens):\n",
        "    \"\"\"Converts a list of tokens to a single string.\"\"\"\n",
        "    return \" \".join(tokens)\n",
        "\n",
        "# Apply the function to each element of the column and create a new column\n",
        "data['token_clean_tweet_tokenized_text'] = data['token_clean_tweet_tokenize'].apply(list_to_string)"
      ],
      "metadata": {
        "id": "pRyTrk-kg-N2"
      },
      "execution_count": null,
      "outputs": []
    },
    {
      "cell_type": "code",
      "source": [
        "params[\"X_column_name\"] = \"token_clean_tweet_tokenized_text\"\n",
        "\n",
        "X_column_name = params.get(\"X_column_name\", \"text_clean\")\n",
        "print(X_column_name)\n",
        "print(data[X_column_name].values)\n",
        "\n",
        "# data[\"text_clean\"].values"
      ],
      "metadata": {
        "colab": {
          "base_uri": "https://localhost:8080/"
        },
        "id": "J1ZjWsH2foas",
        "outputId": "33725039-665e-4324-fd5e-4a145c6900f5"
      },
      "execution_count": null,
      "outputs": [
        {
          "output_type": "stream",
          "name": "stdout",
          "text": [
            "token_clean_tweet_tokenized_text\n",
            "['tldr : sars , possibly new coronavirus . difficult confirm patients identified later infection'\n",
            " \"#ccp keep saying unknown cause pneumonia ? cause obviously related corona virus . let's\"\n",
            " 'always feel weird hoping another coronavirus outbreak rationalize research !'\n",
            " ...\n",
            " '. started posting once-a-day p . . est updates covid - state . two cases confirm'\n",
            " \"even shop / office / etc someone covid - , average , there's approx / cha\"\n",
            " 'already know youre idiot bungled coronavirus pandemic #trumpcrash #trumpisanidiot']\n"
          ]
        }
      ]
    },
    {
      "cell_type": "markdown",
      "metadata": {
        "id": "9xEsRVivREZo"
      },
      "source": [
        "Let's repare the training/test/validation sets"
      ]
    },
    {
      "cell_type": "code",
      "execution_count": null,
      "metadata": {
        "id": "8vIHvfxtREZp",
        "outputId": "e436d9d4-7026-45fe-f981-f7dc604c376f",
        "colab": {
          "base_uri": "https://localhost:8080/"
        }
      },
      "outputs": [
        {
          "output_type": "stream",
          "name": "stdout",
          "text": [
            "18012 train examples\n",
            "4504 test examples\n",
            "14409 train examples\n",
            "3603 test examples\n"
          ]
        }
      ],
      "source": [
        "data_train, data_test = get_train_test_split(params, data)\n",
        "data_train, data_val = get_train_test_split(params, data_train)\n",
        "\n",
        "dataset_train = dataframe_to_dataset(params, data_train)\n",
        "dataset_test = dataframe_to_dataset(params, data_test)\n",
        "dataset_val = dataframe_to_dataset(params, data_val)"
      ]
    },
    {
      "cell_type": "code",
      "execution_count": null,
      "metadata": {
        "id": "DHQYdwL-REZp",
        "outputId": "fd11c14f-68af-49c8-b874-3941993982b9",
        "colab": {
          "base_uri": "https://localhost:8080/"
        }
      },
      "outputs": [
        {
          "output_type": "stream",
          "name": "stdout",
          "text": [
            "tf.Tensor(b'video game company urges users seek information coronavirus official sources , game - cnn', shape=(), dtype=string)\n",
            "tf.Tensor(0, shape=(), dtype=int64)\n"
          ]
        }
      ],
      "source": [
        "for text, labels in dataset_train.take(1):\n",
        "    print(text)\n",
        "    print(labels)"
      ]
    },
    {
      "cell_type": "markdown",
      "metadata": {
        "id": "Q7D0D-GXREZp"
      },
      "source": [
        "We use the helper functions from the library"
      ]
    },
    {
      "cell_type": "markdown",
      "metadata": {
        "id": "-NH_r3uXREZq"
      },
      "source": [
        "Let's build our data pipeline."
      ]
    },
    {
      "cell_type": "code",
      "execution_count": null,
      "metadata": {
        "id": "klKqipy2REZr"
      },
      "outputs": [],
      "source": [
        "dataset_train_preprocessed = build_preprocessed_dataset(params, dataset_train, False)\n",
        "dataset_val_preprocessed = build_preprocessed_dataset(params, dataset_val, False)"
      ]
    },
    {
      "cell_type": "code",
      "execution_count": null,
      "metadata": {
        "id": "UXClW4OTREZr",
        "outputId": "d01f38b7-1d46-4b5a-f447-e4938ca1f2b6",
        "colab": {
          "base_uri": "https://localhost:8080/"
        }
      },
      "outputs": [
        {
          "output_type": "stream",
          "name": "stdout",
          "text": [
            "Text: tf.Tensor(b'video game company urges users seek information coronavirus official sources , game - cnn', shape=(), dtype=string)\n",
            "Label: tf.Tensor(0, shape=(), dtype=int64)\n"
          ]
        }
      ],
      "source": [
        "text_batch, label_batch = next(iter(dataset_train_preprocessed))\n",
        "first_text, first_label = text_batch[0], label_batch[0]\n",
        "print(\"Text:\", first_text)\n",
        "print(\"Label:\", first_label)"
      ]
    },
    {
      "cell_type": "markdown",
      "metadata": {
        "id": "J50VmFf7REZr"
      },
      "source": [
        "Let's build our model"
      ]
    },
    {
      "cell_type": "code",
      "execution_count": null,
      "metadata": {
        "id": "WZ1ujbFhREZr"
      },
      "outputs": [],
      "source": [
        "def build_model_cnn(params, number_of_filters = 128, kernel_size = 7):\n",
        "    \"\"\"Builds a simple cnn classifier (only partially) based on the provided params\n",
        "\n",
        "    Parameters\n",
        "    ----------\n",
        "    params: dict\n",
        "        The dictionary containing the parameters\n",
        "    \"\"\"\n",
        "\n",
        "    from tensorflow import keras\n",
        "\n",
        "    # binary classification\n",
        "    output_activation = \"sigmoid\"\n",
        "\n",
        "    X_column_name = params.get(\"X_column_name\", \"text_clean\")\n",
        "    print(X_column_name)\n",
        "    computed_objects_column_name = params.get(\"computed_objects_column_name\", \"computed_objects\")\n",
        "    vectorize_layer = params[computed_objects_column_name][\"vectorize_layer\"]\n",
        "    embedding_layer = params[computed_objects_column_name][\"embedding_layer\"]\n",
        "    label_binarizer = params[computed_objects_column_name][\"label_binarizer\"]\n",
        "    output_classes = len(label_binarizer.classes_)\n",
        "    output_classes = output_classes if output_classes > 2 else 1\n",
        "\n",
        "    model = keras.Sequential(name=\"cnn\")\n",
        "    # A text input layer\n",
        "    model.add(keras.layers.InputLayer(shape=(1,), dtype=tf.string, name=X_column_name))\n",
        "    # The first layer in our model is the vectorization layer. After this layer,\n",
        "    # we have a tensor of shape (batch_size, output_sequence_length) containing vocab indices.\n",
        "    model.add(vectorize_layer)\n",
        "    # Next, we add a layer to map those vocab indices into a space of dimensionality 'embedding_dim'.\n",
        "    model.add(embedding_layer)\n",
        "\n",
        "    # build the CNN\n",
        "    cnn_conv_num_filters = number_of_filters\n",
        "    cnn_conv_kernel_size = kernel_size\n",
        "    model.add(keras.layers.Conv1D(\n",
        "        cnn_conv_num_filters,\n",
        "        cnn_conv_kernel_size,\n",
        "        activation=\"relu\",\n",
        "        strides=1,\n",
        "        padding=\"valid\", # valid -> no padding, same -> zeros so that output has same dimensions\n",
        "        name=\"conv_1\"))\n",
        "    # add global max pooling\n",
        "    model.add(keras.layers.GlobalMaxPooling1D(name=\"global_max_pool_1\"))\n",
        "\n",
        "    # add the classification head\n",
        "    model.add(keras.layers.Dense(output_classes, activation=output_activation, name=\"prediction\"))\n",
        "\n",
        "    return model"
      ]
    },
    {
      "cell_type": "code",
      "execution_count": null,
      "metadata": {
        "id": "5FYTrOmbREZr",
        "outputId": "23f67f22-e22e-4826-a4c1-d9b49674b8a5",
        "colab": {
          "base_uri": "https://localhost:8080/",
          "height": 403
        }
      },
      "outputs": [
        {
          "output_type": "stream",
          "name": "stdout",
          "text": [
            "token_clean_tweet_tokenized_text\n"
          ]
        },
        {
          "output_type": "stream",
          "name": "stderr",
          "text": [
            "/usr/local/lib/python3.10/dist-packages/keras/src/layers/layer.py:934: UserWarning: Layer 'conv_1' (of type Conv1D) was passed an input with a mask attached to it. However, this layer does not support masking and will therefore destroy the mask information. Downstream layers will not see the mask.\n",
            "  warnings.warn(\n"
          ]
        },
        {
          "output_type": "display_data",
          "data": {
            "text/plain": [
              "\u001b[1mModel: \"cnn\"\u001b[0m\n"
            ],
            "text/html": [
              "<pre style=\"white-space:pre;overflow-x:auto;line-height:normal;font-family:Menlo,'DejaVu Sans Mono',consolas,'Courier New',monospace\"><span style=\"font-weight: bold\">Model: \"cnn\"</span>\n",
              "</pre>\n"
            ]
          },
          "metadata": {}
        },
        {
          "output_type": "display_data",
          "data": {
            "text/plain": [
              "┏━━━━━━━━━━━━━━━━━━━━━━━━━━━━━━━━━━━━━━┳━━━━━━━━━━━━━━━━━━━━━━━━━━━━━┳━━━━━━━━━━━━━━━━━┓\n",
              "┃\u001b[1m \u001b[0m\u001b[1mLayer (type)                        \u001b[0m\u001b[1m \u001b[0m┃\u001b[1m \u001b[0m\u001b[1mOutput Shape               \u001b[0m\u001b[1m \u001b[0m┃\u001b[1m \u001b[0m\u001b[1m        Param #\u001b[0m\u001b[1m \u001b[0m┃\n",
              "┡━━━━━━━━━━━━━━━━━━━━━━━━━━━━━━━━━━━━━━╇━━━━━━━━━━━━━━━━━━━━━━━━━━━━━╇━━━━━━━━━━━━━━━━━┩\n",
              "│ text_vectorization                   │ (\u001b[38;5;45mNone\u001b[0m, \u001b[38;5;45mNone\u001b[0m)                │               \u001b[38;5;34m0\u001b[0m │\n",
              "│ (\u001b[38;5;33mTextVectorization\u001b[0m)                  │                             │                 │\n",
              "├──────────────────────────────────────┼─────────────────────────────┼─────────────────┤\n",
              "│ embedding (\u001b[38;5;33mEmbedding\u001b[0m)                │ (\u001b[38;5;45mNone\u001b[0m, \u001b[38;5;45mNone\u001b[0m, \u001b[38;5;34m50\u001b[0m)            │       \u001b[38;5;34m1,066,000\u001b[0m │\n",
              "├──────────────────────────────────────┼─────────────────────────────┼─────────────────┤\n",
              "│ conv_1 (\u001b[38;5;33mConv1D\u001b[0m)                      │ (\u001b[38;5;45mNone\u001b[0m, \u001b[38;5;45mNone\u001b[0m, \u001b[38;5;34m128\u001b[0m)           │          \u001b[38;5;34m44,928\u001b[0m │\n",
              "├──────────────────────────────────────┼─────────────────────────────┼─────────────────┤\n",
              "│ global_max_pool_1                    │ (\u001b[38;5;45mNone\u001b[0m, \u001b[38;5;34m128\u001b[0m)                 │               \u001b[38;5;34m0\u001b[0m │\n",
              "│ (\u001b[38;5;33mGlobalMaxPooling1D\u001b[0m)                 │                             │                 │\n",
              "├──────────────────────────────────────┼─────────────────────────────┼─────────────────┤\n",
              "│ prediction (\u001b[38;5;33mDense\u001b[0m)                   │ (\u001b[38;5;45mNone\u001b[0m, \u001b[38;5;34m1\u001b[0m)                   │             \u001b[38;5;34m129\u001b[0m │\n",
              "└──────────────────────────────────────┴─────────────────────────────┴─────────────────┘\n"
            ],
            "text/html": [
              "<pre style=\"white-space:pre;overflow-x:auto;line-height:normal;font-family:Menlo,'DejaVu Sans Mono',consolas,'Courier New',monospace\">┏━━━━━━━━━━━━━━━━━━━━━━━━━━━━━━━━━━━━━━┳━━━━━━━━━━━━━━━━━━━━━━━━━━━━━┳━━━━━━━━━━━━━━━━━┓\n",
              "┃<span style=\"font-weight: bold\"> Layer (type)                         </span>┃<span style=\"font-weight: bold\"> Output Shape                </span>┃<span style=\"font-weight: bold\">         Param # </span>┃\n",
              "┡━━━━━━━━━━━━━━━━━━━━━━━━━━━━━━━━━━━━━━╇━━━━━━━━━━━━━━━━━━━━━━━━━━━━━╇━━━━━━━━━━━━━━━━━┩\n",
              "│ text_vectorization                   │ (<span style=\"color: #00d7ff; text-decoration-color: #00d7ff\">None</span>, <span style=\"color: #00d7ff; text-decoration-color: #00d7ff\">None</span>)                │               <span style=\"color: #00af00; text-decoration-color: #00af00\">0</span> │\n",
              "│ (<span style=\"color: #0087ff; text-decoration-color: #0087ff\">TextVectorization</span>)                  │                             │                 │\n",
              "├──────────────────────────────────────┼─────────────────────────────┼─────────────────┤\n",
              "│ embedding (<span style=\"color: #0087ff; text-decoration-color: #0087ff\">Embedding</span>)                │ (<span style=\"color: #00d7ff; text-decoration-color: #00d7ff\">None</span>, <span style=\"color: #00d7ff; text-decoration-color: #00d7ff\">None</span>, <span style=\"color: #00af00; text-decoration-color: #00af00\">50</span>)            │       <span style=\"color: #00af00; text-decoration-color: #00af00\">1,066,000</span> │\n",
              "├──────────────────────────────────────┼─────────────────────────────┼─────────────────┤\n",
              "│ conv_1 (<span style=\"color: #0087ff; text-decoration-color: #0087ff\">Conv1D</span>)                      │ (<span style=\"color: #00d7ff; text-decoration-color: #00d7ff\">None</span>, <span style=\"color: #00d7ff; text-decoration-color: #00d7ff\">None</span>, <span style=\"color: #00af00; text-decoration-color: #00af00\">128</span>)           │          <span style=\"color: #00af00; text-decoration-color: #00af00\">44,928</span> │\n",
              "├──────────────────────────────────────┼─────────────────────────────┼─────────────────┤\n",
              "│ global_max_pool_1                    │ (<span style=\"color: #00d7ff; text-decoration-color: #00d7ff\">None</span>, <span style=\"color: #00af00; text-decoration-color: #00af00\">128</span>)                 │               <span style=\"color: #00af00; text-decoration-color: #00af00\">0</span> │\n",
              "│ (<span style=\"color: #0087ff; text-decoration-color: #0087ff\">GlobalMaxPooling1D</span>)                 │                             │                 │\n",
              "├──────────────────────────────────────┼─────────────────────────────┼─────────────────┤\n",
              "│ prediction (<span style=\"color: #0087ff; text-decoration-color: #0087ff\">Dense</span>)                   │ (<span style=\"color: #00d7ff; text-decoration-color: #00d7ff\">None</span>, <span style=\"color: #00af00; text-decoration-color: #00af00\">1</span>)                   │             <span style=\"color: #00af00; text-decoration-color: #00af00\">129</span> │\n",
              "└──────────────────────────────────────┴─────────────────────────────┴─────────────────┘\n",
              "</pre>\n"
            ]
          },
          "metadata": {}
        },
        {
          "output_type": "display_data",
          "data": {
            "text/plain": [
              "\u001b[1m Total params: \u001b[0m\u001b[38;5;34m1,111,057\u001b[0m (4.24 MB)\n"
            ],
            "text/html": [
              "<pre style=\"white-space:pre;overflow-x:auto;line-height:normal;font-family:Menlo,'DejaVu Sans Mono',consolas,'Courier New',monospace\"><span style=\"font-weight: bold\"> Total params: </span><span style=\"color: #00af00; text-decoration-color: #00af00\">1,111,057</span> (4.24 MB)\n",
              "</pre>\n"
            ]
          },
          "metadata": {}
        },
        {
          "output_type": "display_data",
          "data": {
            "text/plain": [
              "\u001b[1m Trainable params: \u001b[0m\u001b[38;5;34m45,057\u001b[0m (176.00 KB)\n"
            ],
            "text/html": [
              "<pre style=\"white-space:pre;overflow-x:auto;line-height:normal;font-family:Menlo,'DejaVu Sans Mono',consolas,'Courier New',monospace\"><span style=\"font-weight: bold\"> Trainable params: </span><span style=\"color: #00af00; text-decoration-color: #00af00\">45,057</span> (176.00 KB)\n",
              "</pre>\n"
            ]
          },
          "metadata": {}
        },
        {
          "output_type": "display_data",
          "data": {
            "text/plain": [
              "\u001b[1m Non-trainable params: \u001b[0m\u001b[38;5;34m1,066,000\u001b[0m (4.07 MB)\n"
            ],
            "text/html": [
              "<pre style=\"white-space:pre;overflow-x:auto;line-height:normal;font-family:Menlo,'DejaVu Sans Mono',consolas,'Courier New',monospace\"><span style=\"font-weight: bold\"> Non-trainable params: </span><span style=\"color: #00af00; text-decoration-color: #00af00\">1,066,000</span> (4.07 MB)\n",
              "</pre>\n"
            ]
          },
          "metadata": {}
        }
      ],
      "source": [
        "model = build_model_cnn(params)\n",
        "model.summary()"
      ]
    },
    {
      "cell_type": "code",
      "execution_count": null,
      "metadata": {
        "id": "QA9TflzYREZs"
      },
      "outputs": [],
      "source": [
        "compile_model(params, model)"
      ]
    },
    {
      "cell_type": "code",
      "execution_count": null,
      "metadata": {
        "id": "T-vFkXYiREZs",
        "outputId": "d8129f1d-df3b-4aaf-b324-84967d17d79a",
        "colab": {
          "base_uri": "https://localhost:8080/"
        }
      },
      "outputs": [
        {
          "output_type": "stream",
          "name": "stdout",
          "text": [
            "Epoch 1/10\n",
            "\u001b[1m113/113\u001b[0m \u001b[32m━━━━━━━━━━━━━━━━━━━━\u001b[0m\u001b[37m\u001b[0m \u001b[1m6s\u001b[0m 16ms/step - accuracy: 0.7104 - loss: 0.5699 - val_accuracy: 0.7946 - val_loss: 0.4336\n",
            "Epoch 2/10\n",
            "\u001b[1m113/113\u001b[0m \u001b[32m━━━━━━━━━━━━━━━━━━━━\u001b[0m\u001b[37m\u001b[0m \u001b[1m1s\u001b[0m 7ms/step - accuracy: 0.8078 - loss: 0.4181 - val_accuracy: 0.8260 - val_loss: 0.3885\n",
            "Epoch 3/10\n",
            "\u001b[1m113/113\u001b[0m \u001b[32m━━━━━━━━━━━━━━━━━━━━\u001b[0m\u001b[37m\u001b[0m \u001b[1m1s\u001b[0m 7ms/step - accuracy: 0.8433 - loss: 0.3539 - val_accuracy: 0.8340 - val_loss: 0.3786\n",
            "Epoch 4/10\n",
            "\u001b[1m113/113\u001b[0m \u001b[32m━━━━━━━━━━━━━━━━━━━━\u001b[0m\u001b[37m\u001b[0m \u001b[1m2s\u001b[0m 10ms/step - accuracy: 0.8673 - loss: 0.3075 - val_accuracy: 0.8379 - val_loss: 0.3764\n",
            "Epoch 5/10\n",
            "\u001b[1m113/113\u001b[0m \u001b[32m━━━━━━━━━━━━━━━━━━━━\u001b[0m\u001b[37m\u001b[0m \u001b[1m1s\u001b[0m 11ms/step - accuracy: 0.8921 - loss: 0.2606 - val_accuracy: 0.8429 - val_loss: 0.3652\n",
            "Epoch 6/10\n",
            "\u001b[1m113/113\u001b[0m \u001b[32m━━━━━━━━━━━━━━━━━━━━\u001b[0m\u001b[37m\u001b[0m \u001b[1m1s\u001b[0m 11ms/step - accuracy: 0.9161 - loss: 0.2151 - val_accuracy: 0.8418 - val_loss: 0.3737\n",
            "Epoch 7/10\n",
            "\u001b[1m113/113\u001b[0m \u001b[32m━━━━━━━━━━━━━━━━━━━━\u001b[0m\u001b[37m\u001b[0m \u001b[1m1s\u001b[0m 9ms/step - accuracy: 0.9343 - loss: 0.1751 - val_accuracy: 0.8412 - val_loss: 0.3962\n",
            "Epoch 8/10\n",
            "\u001b[1m113/113\u001b[0m \u001b[32m━━━━━━━━━━━━━━━━━━━━\u001b[0m\u001b[37m\u001b[0m \u001b[1m1s\u001b[0m 9ms/step - accuracy: 0.9501 - loss: 0.1415 - val_accuracy: 0.8204 - val_loss: 0.4431\n",
            "Epoch 9/10\n",
            "\u001b[1m113/113\u001b[0m \u001b[32m━━━━━━━━━━━━━━━━━━━━\u001b[0m\u001b[37m\u001b[0m \u001b[1m1s\u001b[0m 10ms/step - accuracy: 0.9447 - loss: 0.1483 - val_accuracy: 0.8382 - val_loss: 0.4163\n",
            "Epoch 10/10\n",
            "\u001b[1m113/113\u001b[0m \u001b[32m━━━━━━━━━━━━━━━━━━━━\u001b[0m\u001b[37m\u001b[0m \u001b[1m1s\u001b[0m 9ms/step - accuracy: 0.9469 - loss: 0.1377 - val_accuracy: 0.8396 - val_loss: 0.4170\n"
          ]
        }
      ],
      "source": [
        "params[\"training_epochs\"] = 10\n",
        "history = train_model(params, model, dataset_train_preprocessed, dataset_val_preprocessed)"
      ]
    },
    {
      "cell_type": "code",
      "execution_count": null,
      "metadata": {
        "id": "6p8zqx7MREZs",
        "outputId": "90fa4e59-e7a9-45ec-cc88-9b012bfb10ad",
        "colab": {
          "base_uri": "https://localhost:8080/",
          "height": 887
        }
      },
      "outputs": [
        {
          "output_type": "display_data",
          "data": {
            "text/plain": [
              "<Figure size 640x480 with 1 Axes>"
            ],
            "image/png": "[encoded data removed]"
          },
          "metadata": {}
        },
        {
          "output_type": "display_data",
          "data": {
            "text/plain": [
              "<Figure size 640x480 with 1 Axes>"
            ],
            "image/png": "[encoded data removed]"
          },
          "metadata": {}
        }
      ],
      "source": [
        "plot_history(history)"
      ]
    },
    {
      "cell_type": "markdown",
      "source": [
        "It's overfitted. Let's stop after 4 epochs and introduce dropout layers later"
      ],
      "metadata": {
        "id": "9PzYuTOZrNOE"
      }
    },
    {
      "cell_type": "markdown",
      "metadata": {
        "id": "flmTF82gREZs"
      },
      "source": [
        "Check performance on all data."
      ]
    },
    {
      "cell_type": "code",
      "execution_count": null,
      "metadata": {
        "id": "78huiNRPREZs"
      },
      "outputs": [],
      "source": [
        "from fhnw.nlp.utils.params import predict_classification\n",
        "from fhnw.nlp.utils.ploting import report_classification_results"
      ]
    },
    {
      "cell_type": "code",
      "execution_count": null,
      "metadata": {
        "id": "wb3HHkwIREZt",
        "outputId": "d77bffbb-c212-4179-e8c8-68447033b61f",
        "colab": {
          "base_uri": "https://localhost:8080/"
        }
      },
      "outputs": [
        {
          "output_type": "stream",
          "name": "stdout",
          "text": [
            "\u001b[1m176/176\u001b[0m \u001b[32m━━━━━━━━━━━━━━━━━━━━\u001b[0m\u001b[37m\u001b[0m \u001b[1m1s\u001b[0m 5ms/step\n"
          ]
        }
      ],
      "source": [
        "y, y_pred, y_pred_prob = predict_classification(params, data, model)"
      ]
    },
    {
      "cell_type": "code",
      "execution_count": null,
      "metadata": {
        "id": "uhmJDmGnREZt",
        "outputId": "850744ba-c3ee-493b-aa9b-840e53e97595",
        "colab": {
          "base_uri": "https://localhost:8080/",
          "height": 946
        }
      },
      "outputs": [
        {
          "output_type": "stream",
          "name": "stdout",
          "text": [
            "Set Population: 22516\n",
            "Accuracy: 0.9185\n"
          ]
        },
        {
          "output_type": "display_data",
          "data": {
            "text/plain": [
              "<Figure size 1000x800 with 2 Axes>"
            ],
            "image/png": "[encoded data removed]"
          },
          "metadata": {}
        },
        {
          "output_type": "stream",
          "name": "stdout",
          "text": [
            "              precision    recall  f1-score   support\n",
            "\n",
            "         neg       0.94      0.95      0.94     16273\n",
            "         pos       0.86      0.84      0.85      6243\n",
            "\n",
            "    accuracy                           0.92     22516\n",
            "   macro avg       0.90      0.90      0.90     22516\n",
            "weighted avg       0.92      0.92      0.92     22516\n",
            "\n",
            "CPU times: user 771 ms, sys: 62.8 ms, total: 834 ms\n",
            "Wall time: 915 ms\n"
          ]
        }
      ],
      "source": [
        "%%time\n",
        "\n",
        "report_classification_results(params, data[params.get(\"y_column_name\", \"label\")].tolist(), y_pred)"
      ]
    },
    {
      "cell_type": "markdown",
      "metadata": {
        "id": "sHekmDKJREZt"
      },
      "source": [
        "Check performance on test data."
      ]
    },
    {
      "cell_type": "code",
      "execution_count": null,
      "metadata": {
        "id": "4wSPo84FREZt",
        "outputId": "4b1e22ab-50ea-4a5c-cf0d-195ed2c171ae",
        "colab": {
          "base_uri": "https://localhost:8080/"
        }
      },
      "outputs": [
        {
          "output_type": "stream",
          "name": "stdout",
          "text": [
            "\u001b[1m36/36\u001b[0m \u001b[32m━━━━━━━━━━━━━━━━━━━━\u001b[0m\u001b[37m\u001b[0m \u001b[1m0s\u001b[0m 5ms/step\n"
          ]
        }
      ],
      "source": [
        "y_test, y_test_pred, y_test_pred_prob = predict_classification(params, data_test, model)"
      ]
    },
    {
      "cell_type": "code",
      "execution_count": null,
      "metadata": {
        "id": "d9ouuLHxREZt",
        "outputId": "849a4df5-1a20-4808-8d19-24e9b92ae9c7",
        "colab": {
          "base_uri": "https://localhost:8080/",
          "height": 946
        }
      },
      "outputs": [
        {
          "output_type": "stream",
          "name": "stdout",
          "text": [
            "Set Population: 4504\n",
            "Accuracy: 0.8410\n"
          ]
        },
        {
          "output_type": "display_data",
          "data": {
            "text/plain": [
              "<Figure size 1000x800 with 2 Axes>"
            ],
            "image/png": "[encoded data removed]"
          },
          "metadata": {}
        },
        {
          "output_type": "stream",
          "name": "stdout",
          "text": [
            "              precision    recall  f1-score   support\n",
            "\n",
            "         neg       0.88      0.90      0.89      3255\n",
            "         pos       0.73      0.68      0.70      1249\n",
            "\n",
            "    accuracy                           0.84      4504\n",
            "   macro avg       0.80      0.79      0.80      4504\n",
            "weighted avg       0.84      0.84      0.84      4504\n",
            "\n",
            "CPU times: user 368 ms, sys: 60.6 ms, total: 428 ms\n",
            "Wall time: 632 ms\n"
          ]
        }
      ],
      "source": [
        "%%time\n",
        "\n",
        "report_classification_results(params, data_test[params.get(\"y_column_name\", \"label\")].tolist(), y_test_pred)"
      ]
    },
    {
      "cell_type": "markdown",
      "source": [
        "That doesn't look good - maybe we have too few positive tweets after all. Lets retrain with 4 epochs and check again"
      ],
      "metadata": {
        "id": "L69V-XRbppJ-"
      }
    },
    {
      "cell_type": "code",
      "execution_count": null,
      "metadata": {
        "outputId": "35266ad2-834b-457b-de10-fe254e90494e",
        "colab": {
          "base_uri": "https://localhost:8080/",
          "height": 403
        },
        "id": "R4QWmS23xN8C"
      },
      "outputs": [
        {
          "output_type": "stream",
          "name": "stdout",
          "text": [
            "token_clean_tweet_tokenized_text\n"
          ]
        },
        {
          "output_type": "stream",
          "name": "stderr",
          "text": [
            "/usr/local/lib/python3.10/dist-packages/keras/src/layers/layer.py:934: UserWarning: Layer 'conv_1' (of type Conv1D) was passed an input with a mask attached to it. However, this layer does not support masking and will therefore destroy the mask information. Downstream layers will not see the mask.\n",
            "  warnings.warn(\n"
          ]
        },
        {
          "output_type": "display_data",
          "data": {
            "text/plain": [
              "\u001b[1mModel: \"cnn\"\u001b[0m\n"
            ],
            "text/html": [
              "<pre style=\"white-space:pre;overflow-x:auto;line-height:normal;font-family:Menlo,'DejaVu Sans Mono',consolas,'Courier New',monospace\"><span style=\"font-weight: bold\">Model: \"cnn\"</span>\n",
              "</pre>\n"
            ]
          },
          "metadata": {}
        },
        {
          "output_type": "display_data",
          "data": {
            "text/plain": [
              "┏━━━━━━━━━━━━━━━━━━━━━━━━━━━━━━━━━━━━━━┳━━━━━━━━━━━━━━━━━━━━━━━━━━━━━┳━━━━━━━━━━━━━━━━━┓\n",
              "┃\u001b[1m \u001b[0m\u001b[1mLayer (type)                        \u001b[0m\u001b[1m \u001b[0m┃\u001b[1m \u001b[0m\u001b[1mOutput Shape               \u001b[0m\u001b[1m \u001b[0m┃\u001b[1m \u001b[0m\u001b[1m        Param #\u001b[0m\u001b[1m \u001b[0m┃\n",
              "┡━━━━━━━━━━━━━━━━━━━━━━━━━━━━━━━━━━━━━━╇━━━━━━━━━━━━━━━━━━━━━━━━━━━━━╇━━━━━━━━━━━━━━━━━┩\n",
              "│ text_vectorization                   │ (\u001b[38;5;45mNone\u001b[0m, \u001b[38;5;45mNone\u001b[0m)                │               \u001b[38;5;34m0\u001b[0m │\n",
              "│ (\u001b[38;5;33mTextVectorization\u001b[0m)                  │                             │                 │\n",
              "├──────────────────────────────────────┼─────────────────────────────┼─────────────────┤\n",
              "│ embedding (\u001b[38;5;33mEmbedding\u001b[0m)                │ (\u001b[38;5;45mNone\u001b[0m, \u001b[38;5;45mNone\u001b[0m, \u001b[38;5;34m50\u001b[0m)            │       \u001b[38;5;34m1,066,000\u001b[0m │\n",
              "├──────────────────────────────────────┼─────────────────────────────┼─────────────────┤\n",
              "│ conv_1 (\u001b[38;5;33mConv1D\u001b[0m)                      │ (\u001b[38;5;45mNone\u001b[0m, \u001b[38;5;45mNone\u001b[0m, \u001b[38;5;34m128\u001b[0m)           │          \u001b[38;5;34m44,928\u001b[0m │\n",
              "├──────────────────────────────────────┼─────────────────────────────┼─────────────────┤\n",
              "│ global_max_pool_1                    │ (\u001b[38;5;45mNone\u001b[0m, \u001b[38;5;34m128\u001b[0m)                 │               \u001b[38;5;34m0\u001b[0m │\n",
              "│ (\u001b[38;5;33mGlobalMaxPooling1D\u001b[0m)                 │                             │                 │\n",
              "├──────────────────────────────────────┼─────────────────────────────┼─────────────────┤\n",
              "│ prediction (\u001b[38;5;33mDense\u001b[0m)                   │ (\u001b[38;5;45mNone\u001b[0m, \u001b[38;5;34m1\u001b[0m)                   │             \u001b[38;5;34m129\u001b[0m │\n",
              "└──────────────────────────────────────┴─────────────────────────────┴─────────────────┘\n"
            ],
            "text/html": [
              "<pre style=\"white-space:pre;overflow-x:auto;line-height:normal;font-family:Menlo,'DejaVu Sans Mono',consolas,'Courier New',monospace\">┏━━━━━━━━━━━━━━━━━━━━━━━━━━━━━━━━━━━━━━┳━━━━━━━━━━━━━━━━━━━━━━━━━━━━━┳━━━━━━━━━━━━━━━━━┓\n",
              "┃<span style=\"font-weight: bold\"> Layer (type)                         </span>┃<span style=\"font-weight: bold\"> Output Shape                </span>┃<span style=\"font-weight: bold\">         Param # </span>┃\n",
              "┡━━━━━━━━━━━━━━━━━━━━━━━━━━━━━━━━━━━━━━╇━━━━━━━━━━━━━━━━━━━━━━━━━━━━━╇━━━━━━━━━━━━━━━━━┩\n",
              "│ text_vectorization                   │ (<span style=\"color: #00d7ff; text-decoration-color: #00d7ff\">None</span>, <span style=\"color: #00d7ff; text-decoration-color: #00d7ff\">None</span>)                │               <span style=\"color: #00af00; text-decoration-color: #00af00\">0</span> │\n",
              "│ (<span style=\"color: #0087ff; text-decoration-color: #0087ff\">TextVectorization</span>)                  │                             │                 │\n",
              "├──────────────────────────────────────┼─────────────────────────────┼─────────────────┤\n",
              "│ embedding (<span style=\"color: #0087ff; text-decoration-color: #0087ff\">Embedding</span>)                │ (<span style=\"color: #00d7ff; text-decoration-color: #00d7ff\">None</span>, <span style=\"color: #00d7ff; text-decoration-color: #00d7ff\">None</span>, <span style=\"color: #00af00; text-decoration-color: #00af00\">50</span>)            │       <span style=\"color: #00af00; text-decoration-color: #00af00\">1,066,000</span> │\n",
              "├──────────────────────────────────────┼─────────────────────────────┼─────────────────┤\n",
              "│ conv_1 (<span style=\"color: #0087ff; text-decoration-color: #0087ff\">Conv1D</span>)                      │ (<span style=\"color: #00d7ff; text-decoration-color: #00d7ff\">None</span>, <span style=\"color: #00d7ff; text-decoration-color: #00d7ff\">None</span>, <span style=\"color: #00af00; text-decoration-color: #00af00\">128</span>)           │          <span style=\"color: #00af00; text-decoration-color: #00af00\">44,928</span> │\n",
              "├──────────────────────────────────────┼─────────────────────────────┼─────────────────┤\n",
              "│ global_max_pool_1                    │ (<span style=\"color: #00d7ff; text-decoration-color: #00d7ff\">None</span>, <span style=\"color: #00af00; text-decoration-color: #00af00\">128</span>)                 │               <span style=\"color: #00af00; text-decoration-color: #00af00\">0</span> │\n",
              "│ (<span style=\"color: #0087ff; text-decoration-color: #0087ff\">GlobalMaxPooling1D</span>)                 │                             │                 │\n",
              "├──────────────────────────────────────┼─────────────────────────────┼─────────────────┤\n",
              "│ prediction (<span style=\"color: #0087ff; text-decoration-color: #0087ff\">Dense</span>)                   │ (<span style=\"color: #00d7ff; text-decoration-color: #00d7ff\">None</span>, <span style=\"color: #00af00; text-decoration-color: #00af00\">1</span>)                   │             <span style=\"color: #00af00; text-decoration-color: #00af00\">129</span> │\n",
              "└──────────────────────────────────────┴─────────────────────────────┴─────────────────┘\n",
              "</pre>\n"
            ]
          },
          "metadata": {}
        },
        {
          "output_type": "display_data",
          "data": {
            "text/plain": [
              "\u001b[1m Total params: \u001b[0m\u001b[38;5;34m1,111,057\u001b[0m (4.24 MB)\n"
            ],
            "text/html": [
              "<pre style=\"white-space:pre;overflow-x:auto;line-height:normal;font-family:Menlo,'DejaVu Sans Mono',consolas,'Courier New',monospace\"><span style=\"font-weight: bold\"> Total params: </span><span style=\"color: #00af00; text-decoration-color: #00af00\">1,111,057</span> (4.24 MB)\n",
              "</pre>\n"
            ]
          },
          "metadata": {}
        },
        {
          "output_type": "display_data",
          "data": {
            "text/plain": [
              "\u001b[1m Trainable params: \u001b[0m\u001b[38;5;34m45,057\u001b[0m (176.00 KB)\n"
            ],
            "text/html": [
              "<pre style=\"white-space:pre;overflow-x:auto;line-height:normal;font-family:Menlo,'DejaVu Sans Mono',consolas,'Courier New',monospace\"><span style=\"font-weight: bold\"> Trainable params: </span><span style=\"color: #00af00; text-decoration-color: #00af00\">45,057</span> (176.00 KB)\n",
              "</pre>\n"
            ]
          },
          "metadata": {}
        },
        {
          "output_type": "display_data",
          "data": {
            "text/plain": [
              "\u001b[1m Non-trainable params: \u001b[0m\u001b[38;5;34m1,066,000\u001b[0m (4.07 MB)\n"
            ],
            "text/html": [
              "<pre style=\"white-space:pre;overflow-x:auto;line-height:normal;font-family:Menlo,'DejaVu Sans Mono',consolas,'Courier New',monospace\"><span style=\"font-weight: bold\"> Non-trainable params: </span><span style=\"color: #00af00; text-decoration-color: #00af00\">1,066,000</span> (4.07 MB)\n",
              "</pre>\n"
            ]
          },
          "metadata": {}
        }
      ],
      "source": [
        "model = build_model_cnn(params)\n",
        "model.summary()"
      ]
    },
    {
      "cell_type": "code",
      "execution_count": null,
      "metadata": {
        "id": "AGxit8xCxBeA"
      },
      "outputs": [],
      "source": [
        "compile_model(params, model)"
      ]
    },
    {
      "cell_type": "code",
      "execution_count": null,
      "metadata": {
        "outputId": "2bc24db1-e9ce-45fd-f33b-2d89f033b5d7",
        "colab": {
          "base_uri": "https://localhost:8080/"
        },
        "id": "nJCeQsw5wgoV"
      },
      "outputs": [
        {
          "output_type": "stream",
          "name": "stdout",
          "text": [
            "Epoch 1/4\n",
            "\u001b[1m113/113\u001b[0m \u001b[32m━━━━━━━━━━━━━━━━━━━━\u001b[0m\u001b[37m\u001b[0m \u001b[1m3s\u001b[0m 11ms/step - accuracy: 0.7068 - loss: 0.5708 - val_accuracy: 0.7807 - val_loss: 0.4555\n",
            "Epoch 2/4\n",
            "\u001b[1m113/113\u001b[0m \u001b[32m━━━━━━━━━━━━━━━━━━━━\u001b[0m\u001b[37m\u001b[0m \u001b[1m1s\u001b[0m 9ms/step - accuracy: 0.8050 - loss: 0.4251 - val_accuracy: 0.8138 - val_loss: 0.4130\n",
            "Epoch 3/4\n",
            "\u001b[1m113/113\u001b[0m \u001b[32m━━━━━━━━━━━━━━━━━━━━\u001b[0m\u001b[37m\u001b[0m \u001b[1m1s\u001b[0m 10ms/step - accuracy: 0.8370 - loss: 0.3639 - val_accuracy: 0.8276 - val_loss: 0.3942\n",
            "Epoch 4/4\n",
            "\u001b[1m113/113\u001b[0m \u001b[32m━━━━━━━━━━━━━━━━━━━━\u001b[0m\u001b[37m\u001b[0m \u001b[1m1s\u001b[0m 8ms/step - accuracy: 0.8649 - loss: 0.3154 - val_accuracy: 0.8337 - val_loss: 0.4049\n"
          ]
        }
      ],
      "source": [
        "params[\"training_epochs\"] = 4\n",
        "history = train_model(params, model, dataset_train_preprocessed, dataset_val_preprocessed)"
      ]
    },
    {
      "cell_type": "code",
      "execution_count": null,
      "metadata": {
        "outputId": "3e09ddde-67ce-4e05-cd4d-3691035c0d3a",
        "colab": {
          "base_uri": "https://localhost:8080/",
          "height": 887
        },
        "id": "GvtLqrtwwgoa"
      },
      "outputs": [
        {
          "output_type": "display_data",
          "data": {
            "text/plain": [
              "<Figure size 640x480 with 1 Axes>"
            ],
            "image/png": "[encoded data removed]"
          },
          "metadata": {}
        },
        {
          "output_type": "display_data",
          "data": {
            "text/plain": [
              "<Figure size 640x480 with 1 Axes>"
            ],
            "image/png": "[encoded data removed]"
          },
          "metadata": {}
        }
      ],
      "source": [
        "plot_history(history)"
      ]
    },
    {
      "cell_type": "markdown",
      "metadata": {
        "id": "t28V-Bohwgoc"
      },
      "source": [
        "Check performance on all data."
      ]
    },
    {
      "cell_type": "code",
      "execution_count": null,
      "metadata": {
        "id": "hDU91Sd-wgod"
      },
      "outputs": [],
      "source": [
        "from fhnw.nlp.utils.params import predict_classification\n",
        "from fhnw.nlp.utils.ploting import report_classification_results"
      ]
    },
    {
      "cell_type": "code",
      "execution_count": null,
      "metadata": {
        "outputId": "9ea772a1-673b-4aa8-9f51-39453d427274",
        "colab": {
          "base_uri": "https://localhost:8080/"
        },
        "id": "_S2DvBvEwgod"
      },
      "outputs": [
        {
          "output_type": "stream",
          "name": "stdout",
          "text": [
            "\u001b[1m176/176\u001b[0m \u001b[32m━━━━━━━━━━━━━━━━━━━━\u001b[0m\u001b[37m\u001b[0m \u001b[1m1s\u001b[0m 5ms/step\n"
          ]
        }
      ],
      "source": [
        "y, y_pred, y_pred_prob = predict_classification(params, data, model)"
      ]
    },
    {
      "cell_type": "code",
      "execution_count": null,
      "metadata": {
        "outputId": "20f2fd34-14a7-4485-bc45-5841e8d881d4",
        "colab": {
          "base_uri": "https://localhost:8080/",
          "height": 946
        },
        "id": "blSnn-Fywgoe"
      },
      "outputs": [
        {
          "output_type": "stream",
          "name": "stdout",
          "text": [
            "Set Population: 22516\n",
            "Accuracy: 0.8550\n"
          ]
        },
        {
          "output_type": "display_data",
          "data": {
            "text/plain": [
              "<Figure size 1000x800 with 2 Axes>"
            ],
            "image/png": "[encoded data removed]"
          },
          "metadata": {}
        },
        {
          "output_type": "stream",
          "name": "stdout",
          "text": [
            "              precision    recall  f1-score   support\n",
            "\n",
            "         neg       0.85      0.98      0.91     16273\n",
            "         pos       0.90      0.53      0.67      6243\n",
            "\n",
            "    accuracy                           0.86     22516\n",
            "   macro avg       0.87      0.76      0.79     22516\n",
            "weighted avg       0.86      0.86      0.84     22516\n",
            "\n",
            "CPU times: user 750 ms, sys: 30.1 ms, total: 780 ms\n",
            "Wall time: 2.2 s\n"
          ]
        }
      ],
      "source": [
        "%%time\n",
        "\n",
        "report_classification_results(params, data[params.get(\"y_column_name\", \"label\")].tolist(), y_pred)"
      ]
    },
    {
      "cell_type": "markdown",
      "metadata": {
        "id": "3kY_CsqWwgoe"
      },
      "source": [
        "Check performance on test data."
      ]
    },
    {
      "cell_type": "code",
      "execution_count": null,
      "metadata": {
        "outputId": "3e5b8e5d-0981-4c22-cc40-f7d5c8ea243f",
        "colab": {
          "base_uri": "https://localhost:8080/"
        },
        "id": "_uPr8Lhzwgoe"
      },
      "outputs": [
        {
          "output_type": "stream",
          "name": "stdout",
          "text": [
            "\u001b[1m36/36\u001b[0m \u001b[32m━━━━━━━━━━━━━━━━━━━━\u001b[0m\u001b[37m\u001b[0m \u001b[1m0s\u001b[0m 6ms/step\n"
          ]
        }
      ],
      "source": [
        "y_test, y_test_pred, y_test_pred_prob = predict_classification(params, data_test, model)"
      ]
    },
    {
      "cell_type": "code",
      "execution_count": null,
      "metadata": {
        "outputId": "5e959d52-b222-45cc-f68d-6caa5598dd58",
        "colab": {
          "base_uri": "https://localhost:8080/",
          "height": 946
        },
        "id": "BZnoYKI1wgof"
      },
      "outputs": [
        {
          "output_type": "stream",
          "name": "stdout",
          "text": [
            "Set Population: 4504\n",
            "Accuracy: 0.8270\n"
          ]
        },
        {
          "output_type": "display_data",
          "data": {
            "text/plain": [
              "<Figure size 1000x800 with 2 Axes>"
            ],
            "image/png": "[encoded data removed]"
          },
          "metadata": {}
        },
        {
          "output_type": "stream",
          "name": "stdout",
          "text": [
            "              precision    recall  f1-score   support\n",
            "\n",
            "         neg       0.82      0.97      0.89      3255\n",
            "         pos       0.85      0.46      0.60      1249\n",
            "\n",
            "    accuracy                           0.83      4504\n",
            "   macro avg       0.84      0.71      0.74      4504\n",
            "weighted avg       0.83      0.83      0.81      4504\n",
            "\n",
            "CPU times: user 400 ms, sys: 32.1 ms, total: 432 ms\n",
            "Wall time: 1.06 s\n"
          ]
        }
      ],
      "source": [
        "%%time\n",
        "\n",
        "report_classification_results(params, data_test[params.get(\"y_column_name\", \"label\")].tolist(), y_test_pred)"
      ]
    },
    {
      "cell_type": "markdown",
      "source": [
        "Still quickly overfitted and poor performance - I conclude the model is too shallow - let's make it deeper and add dropout\n",
        "\n",
        "Let's also play with number of filters and kernel size"
      ],
      "metadata": {
        "id": "WvB9mO3cyw2i"
      }
    },
    {
      "cell_type": "code",
      "execution_count": null,
      "metadata": {
        "id": "nLjbygr7zG-a"
      },
      "outputs": [],
      "source": [
        "def build_model_cnn(params, number_of_filters = 128, kernel_size = 7):\n",
        "    \"\"\"Builds a simple cnn classifier (only partially) based on the provided params\n",
        "\n",
        "    Parameters\n",
        "    ----------\n",
        "    params: dict\n",
        "        The dictionary containing the parameters\n",
        "    \"\"\"\n",
        "\n",
        "    from tensorflow import keras\n",
        "\n",
        "    # binary classification\n",
        "    output_activation = \"sigmoid\"\n",
        "\n",
        "    X_column_name = params.get(\"X_column_name\", \"text_clean\")\n",
        "    print(X_column_name)\n",
        "    computed_objects_column_name = params.get(\"computed_objects_column_name\", \"computed_objects\")\n",
        "    vectorize_layer = params[computed_objects_column_name][\"vectorize_layer\"]\n",
        "    embedding_layer = params[computed_objects_column_name][\"embedding_layer\"]\n",
        "    label_binarizer = params[computed_objects_column_name][\"label_binarizer\"]\n",
        "    output_classes = len(label_binarizer.classes_)\n",
        "    output_classes = output_classes if output_classes > 2 else 1\n",
        "\n",
        "    model = keras.Sequential(name=\"cnn\")\n",
        "    # A text input layer\n",
        "    model.add(keras.layers.InputLayer(shape=(1,), dtype=tf.string, name=X_column_name))\n",
        "    # The first layer in our model is the vectorization layer. After this layer,\n",
        "    # we have a tensor of shape (batch_size, output_sequence_length) containing vocab indices.\n",
        "    model.add(vectorize_layer)\n",
        "    # Next, we add a layer to map those vocab indices into a space of dimensionality 'embedding_dim'.\n",
        "    model.add(embedding_layer)\n",
        "    # we add dropout here\n",
        "    # add dropout\n",
        "    model.add(keras.layers.Dropout(0.5, name=\"dropout\"))\n",
        "\n",
        "    # build the CNN\n",
        "    cnn_conv_num_filters = number_of_filters\n",
        "    cnn_conv_kernel_size = kernel_size\n",
        "    model.add(keras.layers.Conv1D(\n",
        "        cnn_conv_num_filters,\n",
        "        cnn_conv_kernel_size,\n",
        "        activation=\"relu\",\n",
        "        strides=1,\n",
        "        padding=\"valid\", # valid -> no padding, same -> zeros so that output has same dimensions\n",
        "        name=\"conv_1\"))\n",
        "\n",
        "    # add another conv layer and a hidden layer\n",
        "    model.add(keras.layers.Conv1D(\n",
        "        cnn_conv_num_filters,\n",
        "        cnn_conv_kernel_size,\n",
        "        activation=\"relu\",\n",
        "        strides=1,\n",
        "        padding=\"valid\", # valid -> no padding, same -> zeros so that output has same dimensions\n",
        "        name=\"conv_2\"))\n",
        "\n",
        "    # let's try adding a dense layer also\n",
        "    model.add(keras.layers.Dense(100, activation=\"relu\", name=\"dense\"))\n",
        "    # add dropout\n",
        "    model.add(keras.layers.Dropout(0.5, name=\"dropout_dense\"))\n",
        "\n",
        "    # and one more dense layer\n",
        "    model.add(keras.layers.Dense(100, activation=\"relu\", name=\"dense2\"))\n",
        "    # add dropout\n",
        "    model.add(keras.layers.Dropout(0.5, name=\"dropout_dense2\"))\n",
        "\n",
        "    # add global max pooling\n",
        "    model.add(keras.layers.GlobalMaxPooling1D(name=\"global_max_pool_1\"))\n",
        "\n",
        "    # add the classification head\n",
        "    model.add(keras.layers.Dense(output_classes, activation=output_activation, name=\"prediction\"))\n",
        "\n",
        "    return model"
      ]
    },
    {
      "cell_type": "code",
      "execution_count": null,
      "metadata": {
        "outputId": "08d77f57-4e98-4789-dafd-7901f1091d19",
        "colab": {
          "base_uri": "https://localhost:8080/",
          "height": 601
        },
        "id": "RwRxAZvQzG-c"
      },
      "outputs": [
        {
          "output_type": "stream",
          "name": "stdout",
          "text": [
            "token_clean_tweet_tokenized_text\n"
          ]
        },
        {
          "output_type": "stream",
          "name": "stderr",
          "text": [
            "/usr/local/lib/python3.10/dist-packages/keras/src/layers/layer.py:934: UserWarning: Layer 'conv_1' (of type Conv1D) was passed an input with a mask attached to it. However, this layer does not support masking and will therefore destroy the mask information. Downstream layers will not see the mask.\n",
            "  warnings.warn(\n"
          ]
        },
        {
          "output_type": "display_data",
          "data": {
            "text/plain": [
              "\u001b[1mModel: \"cnn\"\u001b[0m\n"
            ],
            "text/html": [
              "<pre style=\"white-space:pre;overflow-x:auto;line-height:normal;font-family:Menlo,'DejaVu Sans Mono',consolas,'Courier New',monospace\"><span style=\"font-weight: bold\">Model: \"cnn\"</span>\n",
              "</pre>\n"
            ]
          },
          "metadata": {}
        },
        {
          "output_type": "display_data",
          "data": {
            "text/plain": [
              "┏━━━━━━━━━━━━━━━━━━━━━━━━━━━━━━━━━━━━━━┳━━━━━━━━━━━━━━━━━━━━━━━━━━━━━┳━━━━━━━━━━━━━━━━━┓\n",
              "┃\u001b[1m \u001b[0m\u001b[1mLayer (type)                        \u001b[0m\u001b[1m \u001b[0m┃\u001b[1m \u001b[0m\u001b[1mOutput Shape               \u001b[0m\u001b[1m \u001b[0m┃\u001b[1m \u001b[0m\u001b[1m        Param #\u001b[0m\u001b[1m \u001b[0m┃\n",
              "┡━━━━━━━━━━━━━━━━━━━━━━━━━━━━━━━━━━━━━━╇━━━━━━━━━━━━━━━━━━━━━━━━━━━━━╇━━━━━━━━━━━━━━━━━┩\n",
              "│ text_vectorization                   │ (\u001b[38;5;45mNone\u001b[0m, \u001b[38;5;45mNone\u001b[0m)                │               \u001b[38;5;34m0\u001b[0m │\n",
              "│ (\u001b[38;5;33mTextVectorization\u001b[0m)                  │                             │                 │\n",
              "├──────────────────────────────────────┼─────────────────────────────┼─────────────────┤\n",
              "│ embedding (\u001b[38;5;33mEmbedding\u001b[0m)                │ (\u001b[38;5;45mNone\u001b[0m, \u001b[38;5;45mNone\u001b[0m, \u001b[38;5;34m50\u001b[0m)            │       \u001b[38;5;34m1,066,000\u001b[0m │\n",
              "├──────────────────────────────────────┼─────────────────────────────┼─────────────────┤\n",
              "│ dropout (\u001b[38;5;33mDropout\u001b[0m)                    │ (\u001b[38;5;45mNone\u001b[0m, \u001b[38;5;45mNone\u001b[0m, \u001b[38;5;34m50\u001b[0m)            │               \u001b[38;5;34m0\u001b[0m │\n",
              "├──────────────────────────────────────┼─────────────────────────────┼─────────────────┤\n",
              "│ conv_1 (\u001b[38;5;33mConv1D\u001b[0m)                      │ (\u001b[38;5;45mNone\u001b[0m, \u001b[38;5;45mNone\u001b[0m, \u001b[38;5;34m128\u001b[0m)           │          \u001b[38;5;34m44,928\u001b[0m │\n",
              "├──────────────────────────────────────┼─────────────────────────────┼─────────────────┤\n",
              "│ conv_2 (\u001b[38;5;33mConv1D\u001b[0m)                      │ (\u001b[38;5;45mNone\u001b[0m, \u001b[38;5;45mNone\u001b[0m, \u001b[38;5;34m128\u001b[0m)           │         \u001b[38;5;34m114,816\u001b[0m │\n",
              "├──────────────────────────────────────┼─────────────────────────────┼─────────────────┤\n",
              "│ dense (\u001b[38;5;33mDense\u001b[0m)                        │ (\u001b[38;5;45mNone\u001b[0m, \u001b[38;5;45mNone\u001b[0m, \u001b[38;5;34m100\u001b[0m)           │          \u001b[38;5;34m12,900\u001b[0m │\n",
              "├──────────────────────────────────────┼─────────────────────────────┼─────────────────┤\n",
              "│ dropout_dense (\u001b[38;5;33mDropout\u001b[0m)              │ (\u001b[38;5;45mNone\u001b[0m, \u001b[38;5;45mNone\u001b[0m, \u001b[38;5;34m100\u001b[0m)           │               \u001b[38;5;34m0\u001b[0m │\n",
              "├──────────────────────────────────────┼─────────────────────────────┼─────────────────┤\n",
              "│ dense2 (\u001b[38;5;33mDense\u001b[0m)                       │ (\u001b[38;5;45mNone\u001b[0m, \u001b[38;5;45mNone\u001b[0m, \u001b[38;5;34m100\u001b[0m)           │          \u001b[38;5;34m10,100\u001b[0m │\n",
              "├──────────────────────────────────────┼─────────────────────────────┼─────────────────┤\n",
              "│ dropout_dense2 (\u001b[38;5;33mDropout\u001b[0m)             │ (\u001b[38;5;45mNone\u001b[0m, \u001b[38;5;45mNone\u001b[0m, \u001b[38;5;34m100\u001b[0m)           │               \u001b[38;5;34m0\u001b[0m │\n",
              "├──────────────────────────────────────┼─────────────────────────────┼─────────────────┤\n",
              "│ global_max_pool_1                    │ (\u001b[38;5;45mNone\u001b[0m, \u001b[38;5;34m100\u001b[0m)                 │               \u001b[38;5;34m0\u001b[0m │\n",
              "│ (\u001b[38;5;33mGlobalMaxPooling1D\u001b[0m)                 │                             │                 │\n",
              "├──────────────────────────────────────┼─────────────────────────────┼─────────────────┤\n",
              "│ prediction (\u001b[38;5;33mDense\u001b[0m)                   │ (\u001b[38;5;45mNone\u001b[0m, \u001b[38;5;34m1\u001b[0m)                   │             \u001b[38;5;34m101\u001b[0m │\n",
              "└──────────────────────────────────────┴─────────────────────────────┴─────────────────┘\n"
            ],
            "text/html": [
              "<pre style=\"white-space:pre;overflow-x:auto;line-height:normal;font-family:Menlo,'DejaVu Sans Mono',consolas,'Courier New',monospace\">┏━━━━━━━━━━━━━━━━━━━━━━━━━━━━━━━━━━━━━━┳━━━━━━━━━━━━━━━━━━━━━━━━━━━━━┳━━━━━━━━━━━━━━━━━┓\n",
              "┃<span style=\"font-weight: bold\"> Layer (type)                         </span>┃<span style=\"font-weight: bold\"> Output Shape                </span>┃<span style=\"font-weight: bold\">         Param # </span>┃\n",
              "┡━━━━━━━━━━━━━━━━━━━━━━━━━━━━━━━━━━━━━━╇━━━━━━━━━━━━━━━━━━━━━━━━━━━━━╇━━━━━━━━━━━━━━━━━┩\n",
              "│ text_vectorization                   │ (<span style=\"color: #00d7ff; text-decoration-color: #00d7ff\">None</span>, <span style=\"color: #00d7ff; text-decoration-color: #00d7ff\">None</span>)                │               <span style=\"color: #00af00; text-decoration-color: #00af00\">0</span> │\n",
              "│ (<span style=\"color: #0087ff; text-decoration-color: #0087ff\">TextVectorization</span>)                  │                             │                 │\n",
              "├──────────────────────────────────────┼─────────────────────────────┼─────────────────┤\n",
              "│ embedding (<span style=\"color: #0087ff; text-decoration-color: #0087ff\">Embedding</span>)                │ (<span style=\"color: #00d7ff; text-decoration-color: #00d7ff\">None</span>, <span style=\"color: #00d7ff; text-decoration-color: #00d7ff\">None</span>, <span style=\"color: #00af00; text-decoration-color: #00af00\">50</span>)            │       <span style=\"color: #00af00; text-decoration-color: #00af00\">1,066,000</span> │\n",
              "├──────────────────────────────────────┼─────────────────────────────┼─────────────────┤\n",
              "│ dropout (<span style=\"color: #0087ff; text-decoration-color: #0087ff\">Dropout</span>)                    │ (<span style=\"color: #00d7ff; text-decoration-color: #00d7ff\">None</span>, <span style=\"color: #00d7ff; text-decoration-color: #00d7ff\">None</span>, <span style=\"color: #00af00; text-decoration-color: #00af00\">50</span>)            │               <span style=\"color: #00af00; text-decoration-color: #00af00\">0</span> │\n",
              "├──────────────────────────────────────┼─────────────────────────────┼─────────────────┤\n",
              "│ conv_1 (<span style=\"color: #0087ff; text-decoration-color: #0087ff\">Conv1D</span>)                      │ (<span style=\"color: #00d7ff; text-decoration-color: #00d7ff\">None</span>, <span style=\"color: #00d7ff; text-decoration-color: #00d7ff\">None</span>, <span style=\"color: #00af00; text-decoration-color: #00af00\">128</span>)           │          <span style=\"color: #00af00; text-decoration-color: #00af00\">44,928</span> │\n",
              "├──────────────────────────────────────┼─────────────────────────────┼─────────────────┤\n",
              "│ conv_2 (<span style=\"color: #0087ff; text-decoration-color: #0087ff\">Conv1D</span>)                      │ (<span style=\"color: #00d7ff; text-decoration-color: #00d7ff\">None</span>, <span style=\"color: #00d7ff; text-decoration-color: #00d7ff\">None</span>, <span style=\"color: #00af00; text-decoration-color: #00af00\">128</span>)           │         <span style=\"color: #00af00; text-decoration-color: #00af00\">114,816</span> │\n",
              "├──────────────────────────────────────┼─────────────────────────────┼─────────────────┤\n",
              "│ dense (<span style=\"color: #0087ff; text-decoration-color: #0087ff\">Dense</span>)                        │ (<span style=\"color: #00d7ff; text-decoration-color: #00d7ff\">None</span>, <span style=\"color: #00d7ff; text-decoration-color: #00d7ff\">None</span>, <span style=\"color: #00af00; text-decoration-color: #00af00\">100</span>)           │          <span style=\"color: #00af00; text-decoration-color: #00af00\">12,900</span> │\n",
              "├──────────────────────────────────────┼─────────────────────────────┼─────────────────┤\n",
              "│ dropout_dense (<span style=\"color: #0087ff; text-decoration-color: #0087ff\">Dropout</span>)              │ (<span style=\"color: #00d7ff; text-decoration-color: #00d7ff\">None</span>, <span style=\"color: #00d7ff; text-decoration-color: #00d7ff\">None</span>, <span style=\"color: #00af00; text-decoration-color: #00af00\">100</span>)           │               <span style=\"color: #00af00; text-decoration-color: #00af00\">0</span> │\n",
              "├──────────────────────────────────────┼─────────────────────────────┼─────────────────┤\n",
              "│ dense2 (<span style=\"color: #0087ff; text-decoration-color: #0087ff\">Dense</span>)                       │ (<span style=\"color: #00d7ff; text-decoration-color: #00d7ff\">None</span>, <span style=\"color: #00d7ff; text-decoration-color: #00d7ff\">None</span>, <span style=\"color: #00af00; text-decoration-color: #00af00\">100</span>)           │          <span style=\"color: #00af00; text-decoration-color: #00af00\">10,100</span> │\n",
              "├──────────────────────────────────────┼─────────────────────────────┼─────────────────┤\n",
              "│ dropout_dense2 (<span style=\"color: #0087ff; text-decoration-color: #0087ff\">Dropout</span>)             │ (<span style=\"color: #00d7ff; text-decoration-color: #00d7ff\">None</span>, <span style=\"color: #00d7ff; text-decoration-color: #00d7ff\">None</span>, <span style=\"color: #00af00; text-decoration-color: #00af00\">100</span>)           │               <span style=\"color: #00af00; text-decoration-color: #00af00\">0</span> │\n",
              "├──────────────────────────────────────┼─────────────────────────────┼─────────────────┤\n",
              "│ global_max_pool_1                    │ (<span style=\"color: #00d7ff; text-decoration-color: #00d7ff\">None</span>, <span style=\"color: #00af00; text-decoration-color: #00af00\">100</span>)                 │               <span style=\"color: #00af00; text-decoration-color: #00af00\">0</span> │\n",
              "│ (<span style=\"color: #0087ff; text-decoration-color: #0087ff\">GlobalMaxPooling1D</span>)                 │                             │                 │\n",
              "├──────────────────────────────────────┼─────────────────────────────┼─────────────────┤\n",
              "│ prediction (<span style=\"color: #0087ff; text-decoration-color: #0087ff\">Dense</span>)                   │ (<span style=\"color: #00d7ff; text-decoration-color: #00d7ff\">None</span>, <span style=\"color: #00af00; text-decoration-color: #00af00\">1</span>)                   │             <span style=\"color: #00af00; text-decoration-color: #00af00\">101</span> │\n",
              "└──────────────────────────────────────┴─────────────────────────────┴─────────────────┘\n",
              "</pre>\n"
            ]
          },
          "metadata": {}
        },
        {
          "output_type": "display_data",
          "data": {
            "text/plain": [
              "\u001b[1m Total params: \u001b[0m\u001b[38;5;34m1,248,845\u001b[0m (4.76 MB)\n"
            ],
            "text/html": [
              "<pre style=\"white-space:pre;overflow-x:auto;line-height:normal;font-family:Menlo,'DejaVu Sans Mono',consolas,'Courier New',monospace\"><span style=\"font-weight: bold\"> Total params: </span><span style=\"color: #00af00; text-decoration-color: #00af00\">1,248,845</span> (4.76 MB)\n",
              "</pre>\n"
            ]
          },
          "metadata": {}
        },
        {
          "output_type": "display_data",
          "data": {
            "text/plain": [
              "\u001b[1m Trainable params: \u001b[0m\u001b[38;5;34m182,845\u001b[0m (714.24 KB)\n"
            ],
            "text/html": [
              "<pre style=\"white-space:pre;overflow-x:auto;line-height:normal;font-family:Menlo,'DejaVu Sans Mono',consolas,'Courier New',monospace\"><span style=\"font-weight: bold\"> Trainable params: </span><span style=\"color: #00af00; text-decoration-color: #00af00\">182,845</span> (714.24 KB)\n",
              "</pre>\n"
            ]
          },
          "metadata": {}
        },
        {
          "output_type": "display_data",
          "data": {
            "text/plain": [
              "\u001b[1m Non-trainable params: \u001b[0m\u001b[38;5;34m1,066,000\u001b[0m (4.07 MB)\n"
            ],
            "text/html": [
              "<pre style=\"white-space:pre;overflow-x:auto;line-height:normal;font-family:Menlo,'DejaVu Sans Mono',consolas,'Courier New',monospace\"><span style=\"font-weight: bold\"> Non-trainable params: </span><span style=\"color: #00af00; text-decoration-color: #00af00\">1,066,000</span> (4.07 MB)\n",
              "</pre>\n"
            ]
          },
          "metadata": {}
        }
      ],
      "source": [
        "model = build_model_cnn(params)\n",
        "model.summary()"
      ]
    },
    {
      "cell_type": "code",
      "execution_count": null,
      "metadata": {
        "id": "dcPFqMYazG-d"
      },
      "outputs": [],
      "source": [
        "compile_model(params, model)"
      ]
    },
    {
      "cell_type": "markdown",
      "source": [
        "I first tried with 10 epochs - but we learn longer here - I stop after 64 epochs"
      ],
      "metadata": {
        "id": "ZLA0UTUw1UWQ"
      }
    },
    {
      "cell_type": "code",
      "execution_count": null,
      "metadata": {
        "outputId": "54917c8f-7183-4012-d7f2-53ec45f71764",
        "colab": {
          "base_uri": "https://localhost:8080/"
        },
        "id": "KQpY6Sl3zG-d"
      },
      "outputs": [
        {
          "output_type": "stream",
          "name": "stdout",
          "text": [
            "Epoch 1/64\n",
            "\u001b[1m113/113\u001b[0m \u001b[32m━━━━━━━━━━━━━━━━━━━━\u001b[0m\u001b[37m\u001b[0m \u001b[1m4s\u001b[0m 14ms/step - accuracy: 0.7020 - loss: 0.6086 - val_accuracy: 0.7227 - val_loss: 0.5395\n",
            "Epoch 2/64\n",
            "\u001b[1m113/113\u001b[0m \u001b[32m━━━━━━━━━━━━━━━━━━━━\u001b[0m\u001b[37m\u001b[0m \u001b[1m3s\u001b[0m 7ms/step - accuracy: 0.7248 - loss: 0.5580 - val_accuracy: 0.7227 - val_loss: 0.5519\n",
            "Epoch 3/64\n",
            "\u001b[1m113/113\u001b[0m \u001b[32m━━━━━━━━━━━━━━━━━━━━\u001b[0m\u001b[37m\u001b[0m \u001b[1m1s\u001b[0m 7ms/step - accuracy: 0.7335 - loss: 0.5446 - val_accuracy: 0.7286 - val_loss: 0.5318\n",
            "Epoch 4/64\n",
            "\u001b[1m113/113\u001b[0m \u001b[32m━━━━━━━━━━━━━━━━━━━━\u001b[0m\u001b[37m\u001b[0m \u001b[1m1s\u001b[0m 8ms/step - accuracy: 0.7355 - loss: 0.5310 - val_accuracy: 0.7336 - val_loss: 0.5183\n",
            "Epoch 5/64\n",
            "\u001b[1m113/113\u001b[0m \u001b[32m━━━━━━━━━━━━━━━━━━━━\u001b[0m\u001b[37m\u001b[0m \u001b[1m1s\u001b[0m 11ms/step - accuracy: 0.7399 - loss: 0.5217 - val_accuracy: 0.7527 - val_loss: 0.4921\n",
            "Epoch 6/64\n",
            "\u001b[1m113/113\u001b[0m \u001b[32m━━━━━━━━━━━━━━━━━━━━\u001b[0m\u001b[37m\u001b[0m \u001b[1m2s\u001b[0m 7ms/step - accuracy: 0.7419 - loss: 0.5286 - val_accuracy: 0.7524 - val_loss: 0.4932\n",
            "Epoch 7/64\n",
            "\u001b[1m113/113\u001b[0m \u001b[32m━━━━━━━━━━━━━━━━━━━━\u001b[0m\u001b[37m\u001b[0m \u001b[1m1s\u001b[0m 8ms/step - accuracy: 0.7400 - loss: 0.5256 - val_accuracy: 0.7594 - val_loss: 0.4942\n",
            "Epoch 8/64\n",
            "\u001b[1m113/113\u001b[0m \u001b[32m━━━━━━━━━━━━━━━━━━━━\u001b[0m\u001b[37m\u001b[0m \u001b[1m1s\u001b[0m 7ms/step - accuracy: 0.7561 - loss: 0.5124 - val_accuracy: 0.7469 - val_loss: 0.5085\n",
            "Epoch 9/64\n",
            "\u001b[1m113/113\u001b[0m \u001b[32m━━━━━━━━━━━━━━━━━━━━\u001b[0m\u001b[37m\u001b[0m \u001b[1m1s\u001b[0m 7ms/step - accuracy: 0.7568 - loss: 0.5050 - val_accuracy: 0.7727 - val_loss: 0.4760\n",
            "Epoch 10/64\n",
            "\u001b[1m113/113\u001b[0m \u001b[32m━━━━━━━━━━━━━━━━━━━━\u001b[0m\u001b[37m\u001b[0m \u001b[1m1s\u001b[0m 7ms/step - accuracy: 0.7605 - loss: 0.4974 - val_accuracy: 0.7796 - val_loss: 0.4836\n",
            "Epoch 11/64\n",
            "\u001b[1m113/113\u001b[0m \u001b[32m━━━━━━━━━━━━━━━━━━━━\u001b[0m\u001b[37m\u001b[0m \u001b[1m1s\u001b[0m 7ms/step - accuracy: 0.7671 - loss: 0.4980 - val_accuracy: 0.7666 - val_loss: 0.4851\n",
            "Epoch 12/64\n",
            "\u001b[1m113/113\u001b[0m \u001b[32m━━━━━━━━━━━━━━━━━━━━\u001b[0m\u001b[37m\u001b[0m \u001b[1m1s\u001b[0m 8ms/step - accuracy: 0.7686 - loss: 0.4914 - val_accuracy: 0.7641 - val_loss: 0.4806\n",
            "Epoch 13/64\n",
            "\u001b[1m113/113\u001b[0m \u001b[32m━━━━━━━━━━━━━━━━━━━━\u001b[0m\u001b[37m\u001b[0m \u001b[1m1s\u001b[0m 8ms/step - accuracy: 0.7574 - loss: 0.4997 - val_accuracy: 0.7813 - val_loss: 0.4687\n",
            "Epoch 14/64\n",
            "\u001b[1m113/113\u001b[0m \u001b[32m━━━━━━━━━━━━━━━━━━━━\u001b[0m\u001b[37m\u001b[0m \u001b[1m1s\u001b[0m 8ms/step - accuracy: 0.7664 - loss: 0.4931 - val_accuracy: 0.7766 - val_loss: 0.5053\n",
            "Epoch 15/64\n",
            "\u001b[1m113/113\u001b[0m \u001b[32m━━━━━━━━━━━━━━━━━━━━\u001b[0m\u001b[37m\u001b[0m \u001b[1m1s\u001b[0m 7ms/step - accuracy: 0.7681 - loss: 0.5005 - val_accuracy: 0.7880 - val_loss: 0.4845\n",
            "Epoch 16/64\n",
            "\u001b[1m113/113\u001b[0m \u001b[32m━━━━━━━━━━━━━━━━━━━━\u001b[0m\u001b[37m\u001b[0m \u001b[1m2s\u001b[0m 11ms/step - accuracy: 0.7740 - loss: 0.4826 - val_accuracy: 0.7896 - val_loss: 0.4724\n",
            "Epoch 17/64\n",
            "\u001b[1m113/113\u001b[0m \u001b[32m━━━━━━━━━━━━━━━━━━━━\u001b[0m\u001b[37m\u001b[0m \u001b[1m1s\u001b[0m 12ms/step - accuracy: 0.7784 - loss: 0.4800 - val_accuracy: 0.7888 - val_loss: 0.4874\n",
            "Epoch 18/64\n",
            "\u001b[1m113/113\u001b[0m \u001b[32m━━━━━━━━━━━━━━━━━━━━\u001b[0m\u001b[37m\u001b[0m \u001b[1m2s\u001b[0m 7ms/step - accuracy: 0.7736 - loss: 0.4828 - val_accuracy: 0.7913 - val_loss: 0.5024\n",
            "Epoch 19/64\n",
            "\u001b[1m113/113\u001b[0m \u001b[32m━━━━━━━━━━━━━━━━━━━━\u001b[0m\u001b[37m\u001b[0m \u001b[1m1s\u001b[0m 7ms/step - accuracy: 0.7777 - loss: 0.4705 - val_accuracy: 0.7971 - val_loss: 0.4408\n",
            "Epoch 20/64\n",
            "\u001b[1m113/113\u001b[0m \u001b[32m━━━━━━━━━━━━━━━━━━━━\u001b[0m\u001b[37m\u001b[0m \u001b[1m1s\u001b[0m 7ms/step - accuracy: 0.7797 - loss: 0.4780 - val_accuracy: 0.8041 - val_loss: 0.4635\n",
            "Epoch 21/64\n",
            "\u001b[1m113/113\u001b[0m \u001b[32m━━━━━━━━━━━━━━━━━━━━\u001b[0m\u001b[37m\u001b[0m \u001b[1m1s\u001b[0m 7ms/step - accuracy: 0.7790 - loss: 0.4833 - val_accuracy: 0.7913 - val_loss: 0.4620\n",
            "Epoch 22/64\n",
            "\u001b[1m113/113\u001b[0m \u001b[32m━━━━━━━━━━━━━━━━━━━━\u001b[0m\u001b[37m\u001b[0m \u001b[1m1s\u001b[0m 7ms/step - accuracy: 0.7768 - loss: 0.4773 - val_accuracy: 0.8066 - val_loss: 0.4537\n",
            "Epoch 23/64\n",
            "\u001b[1m113/113\u001b[0m \u001b[32m━━━━━━━━━━━━━━━━━━━━\u001b[0m\u001b[37m\u001b[0m \u001b[1m1s\u001b[0m 8ms/step - accuracy: 0.7736 - loss: 0.4809 - val_accuracy: 0.7991 - val_loss: 0.4655\n",
            "Epoch 24/64\n",
            "\u001b[1m113/113\u001b[0m \u001b[32m━━━━━━━━━━━━━━━━━━━━\u001b[0m\u001b[37m\u001b[0m \u001b[1m1s\u001b[0m 8ms/step - accuracy: 0.7849 - loss: 0.4662 - val_accuracy: 0.7938 - val_loss: 0.4656\n",
            "Epoch 25/64\n",
            "\u001b[1m113/113\u001b[0m \u001b[32m━━━━━━━━━━━━━━━━━━━━\u001b[0m\u001b[37m\u001b[0m \u001b[1m1s\u001b[0m 7ms/step - accuracy: 0.7786 - loss: 0.4761 - val_accuracy: 0.7991 - val_loss: 0.4607\n",
            "Epoch 26/64\n",
            "\u001b[1m113/113\u001b[0m \u001b[32m━━━━━━━━━━━━━━━━━━━━\u001b[0m\u001b[37m\u001b[0m \u001b[1m1s\u001b[0m 8ms/step - accuracy: 0.7718 - loss: 0.4815 - val_accuracy: 0.8038 - val_loss: 0.4576\n",
            "Epoch 27/64\n",
            "\u001b[1m113/113\u001b[0m \u001b[32m━━━━━━━━━━━━━━━━━━━━\u001b[0m\u001b[37m\u001b[0m \u001b[1m1s\u001b[0m 11ms/step - accuracy: 0.7835 - loss: 0.4683 - val_accuracy: 0.7957 - val_loss: 0.4569\n",
            "Epoch 28/64\n",
            "\u001b[1m113/113\u001b[0m \u001b[32m━━━━━━━━━━━━━━━━━━━━\u001b[0m\u001b[37m\u001b[0m \u001b[1m1s\u001b[0m 12ms/step - accuracy: 0.7735 - loss: 0.4757 - val_accuracy: 0.7952 - val_loss: 0.4643\n",
            "Epoch 29/64\n",
            "\u001b[1m113/113\u001b[0m \u001b[32m━━━━━━━━━━━━━━━━━━━━\u001b[0m\u001b[37m\u001b[0m \u001b[1m1s\u001b[0m 11ms/step - accuracy: 0.7824 - loss: 0.4725 - val_accuracy: 0.8060 - val_loss: 0.4570\n",
            "Epoch 30/64\n",
            "\u001b[1m113/113\u001b[0m \u001b[32m━━━━━━━━━━━━━━━━━━━━\u001b[0m\u001b[37m\u001b[0m \u001b[1m2s\u001b[0m 7ms/step - accuracy: 0.7830 - loss: 0.4659 - val_accuracy: 0.7935 - val_loss: 0.4596\n",
            "Epoch 31/64\n",
            "\u001b[1m113/113\u001b[0m \u001b[32m━━━━━━━━━━━━━━━━━━━━\u001b[0m\u001b[37m\u001b[0m \u001b[1m1s\u001b[0m 7ms/step - accuracy: 0.7776 - loss: 0.4732 - val_accuracy: 0.7979 - val_loss: 0.4657\n",
            "Epoch 32/64\n",
            "\u001b[1m113/113\u001b[0m \u001b[32m━━━━━━━━━━━━━━━━━━━━\u001b[0m\u001b[37m\u001b[0m \u001b[1m1s\u001b[0m 7ms/step - accuracy: 0.7837 - loss: 0.4635 - val_accuracy: 0.7910 - val_loss: 0.4556\n",
            "Epoch 33/64\n",
            "\u001b[1m113/113\u001b[0m \u001b[32m━━━━━━━━━━━━━━━━━━━━\u001b[0m\u001b[37m\u001b[0m \u001b[1m1s\u001b[0m 7ms/step - accuracy: 0.7796 - loss: 0.4756 - val_accuracy: 0.8074 - val_loss: 0.4669\n",
            "Epoch 34/64\n",
            "\u001b[1m113/113\u001b[0m \u001b[32m━━━━━━━━━━━━━━━━━━━━\u001b[0m\u001b[37m\u001b[0m \u001b[1m1s\u001b[0m 7ms/step - accuracy: 0.7819 - loss: 0.4645 - val_accuracy: 0.8093 - val_loss: 0.4602\n",
            "Epoch 35/64\n",
            "\u001b[1m113/113\u001b[0m \u001b[32m━━━━━━━━━━━━━━━━━━━━\u001b[0m\u001b[37m\u001b[0m \u001b[1m1s\u001b[0m 7ms/step - accuracy: 0.7776 - loss: 0.4709 - val_accuracy: 0.8004 - val_loss: 0.4592\n",
            "Epoch 36/64\n",
            "\u001b[1m113/113\u001b[0m \u001b[32m━━━━━━━━━━━━━━━━━━━━\u001b[0m\u001b[37m\u001b[0m \u001b[1m1s\u001b[0m 7ms/step - accuracy: 0.7857 - loss: 0.4664 - val_accuracy: 0.8090 - val_loss: 0.4627\n",
            "Epoch 37/64\n",
            "\u001b[1m113/113\u001b[0m \u001b[32m━━━━━━━━━━━━━━━━━━━━\u001b[0m\u001b[37m\u001b[0m \u001b[1m1s\u001b[0m 8ms/step - accuracy: 0.7781 - loss: 0.4704 - val_accuracy: 0.8010 - val_loss: 0.4538\n",
            "Epoch 38/64\n",
            "\u001b[1m113/113\u001b[0m \u001b[32m━━━━━━━━━━━━━━━━━━━━\u001b[0m\u001b[37m\u001b[0m \u001b[1m1s\u001b[0m 7ms/step - accuracy: 0.7842 - loss: 0.4588 - val_accuracy: 0.7905 - val_loss: 0.4669\n",
            "Epoch 39/64\n",
            "\u001b[1m113/113\u001b[0m \u001b[32m━━━━━━━━━━━━━━━━━━━━\u001b[0m\u001b[37m\u001b[0m \u001b[1m1s\u001b[0m 8ms/step - accuracy: 0.7853 - loss: 0.4635 - val_accuracy: 0.8077 - val_loss: 0.4391\n",
            "Epoch 40/64\n",
            "\u001b[1m113/113\u001b[0m \u001b[32m━━━━━━━━━━━━━━━━━━━━\u001b[0m\u001b[37m\u001b[0m \u001b[1m1s\u001b[0m 11ms/step - accuracy: 0.7906 - loss: 0.4685 - val_accuracy: 0.8163 - val_loss: 0.4558\n",
            "Epoch 41/64\n",
            "\u001b[1m113/113\u001b[0m \u001b[32m━━━━━━━━━━━━━━━━━━━━\u001b[0m\u001b[37m\u001b[0m \u001b[1m1s\u001b[0m 11ms/step - accuracy: 0.7875 - loss: 0.4584 - val_accuracy: 0.8140 - val_loss: 0.4431\n",
            "Epoch 42/64\n",
            "\u001b[1m113/113\u001b[0m \u001b[32m━━━━━━━━━━━━━━━━━━━━\u001b[0m\u001b[37m\u001b[0m \u001b[1m1s\u001b[0m 12ms/step - accuracy: 0.7882 - loss: 0.4637 - val_accuracy: 0.8265 - val_loss: 0.4585\n",
            "Epoch 43/64\n",
            "\u001b[1m113/113\u001b[0m \u001b[32m━━━━━━━━━━━━━━━━━━━━\u001b[0m\u001b[37m\u001b[0m \u001b[1m2s\u001b[0m 7ms/step - accuracy: 0.7857 - loss: 0.4587 - val_accuracy: 0.7988 - val_loss: 0.4565\n",
            "Epoch 44/64\n",
            "\u001b[1m113/113\u001b[0m \u001b[32m━━━━━━━━━━━━━━━━━━━━\u001b[0m\u001b[37m\u001b[0m \u001b[1m1s\u001b[0m 8ms/step - accuracy: 0.7845 - loss: 0.4642 - val_accuracy: 0.8096 - val_loss: 0.4552\n",
            "Epoch 45/64\n",
            "\u001b[1m113/113\u001b[0m \u001b[32m━━━━━━━━━━━━━━━━━━━━\u001b[0m\u001b[37m\u001b[0m \u001b[1m1s\u001b[0m 7ms/step - accuracy: 0.7829 - loss: 0.4623 - val_accuracy: 0.8043 - val_loss: 0.4478\n",
            "Epoch 46/64\n",
            "\u001b[1m113/113\u001b[0m \u001b[32m━━━━━━━━━━━━━━━━━━━━\u001b[0m\u001b[37m\u001b[0m \u001b[1m1s\u001b[0m 7ms/step - accuracy: 0.7888 - loss: 0.4621 - val_accuracy: 0.8129 - val_loss: 0.4431\n",
            "Epoch 47/64\n",
            "\u001b[1m113/113\u001b[0m \u001b[32m━━━━━━━━━━━━━━━━━━━━\u001b[0m\u001b[37m\u001b[0m \u001b[1m1s\u001b[0m 7ms/step - accuracy: 0.7898 - loss: 0.4572 - val_accuracy: 0.8124 - val_loss: 0.4558\n",
            "Epoch 48/64\n",
            "\u001b[1m113/113\u001b[0m \u001b[32m━━━━━━━━━━━━━━━━━━━━\u001b[0m\u001b[37m\u001b[0m \u001b[1m1s\u001b[0m 7ms/step - accuracy: 0.7877 - loss: 0.4577 - val_accuracy: 0.8049 - val_loss: 0.4608\n",
            "Epoch 49/64\n",
            "\u001b[1m113/113\u001b[0m \u001b[32m━━━━━━━━━━━━━━━━━━━━\u001b[0m\u001b[37m\u001b[0m \u001b[1m1s\u001b[0m 7ms/step - accuracy: 0.7913 - loss: 0.4624 - val_accuracy: 0.8182 - val_loss: 0.4405\n",
            "Epoch 50/64\n",
            "\u001b[1m113/113\u001b[0m \u001b[32m━━━━━━━━━━━━━━━━━━━━\u001b[0m\u001b[37m\u001b[0m \u001b[1m1s\u001b[0m 7ms/step - accuracy: 0.7863 - loss: 0.4644 - val_accuracy: 0.8149 - val_loss: 0.4516\n",
            "Epoch 51/64\n",
            "\u001b[1m113/113\u001b[0m \u001b[32m━━━━━━━━━━━━━━━━━━━━\u001b[0m\u001b[37m\u001b[0m \u001b[1m1s\u001b[0m 10ms/step - accuracy: 0.7946 - loss: 0.4543 - val_accuracy: 0.8232 - val_loss: 0.4518\n",
            "Epoch 52/64\n",
            "\u001b[1m113/113\u001b[0m \u001b[32m━━━━━━━━━━━━━━━━━━━━\u001b[0m\u001b[37m\u001b[0m \u001b[1m1s\u001b[0m 11ms/step - accuracy: 0.7891 - loss: 0.4595 - val_accuracy: 0.8115 - val_loss: 0.4329\n",
            "Epoch 53/64\n",
            "\u001b[1m113/113\u001b[0m \u001b[32m━━━━━━━━━━━━━━━━━━━━\u001b[0m\u001b[37m\u001b[0m \u001b[1m1s\u001b[0m 12ms/step - accuracy: 0.7911 - loss: 0.4573 - val_accuracy: 0.8188 - val_loss: 0.4147\n",
            "Epoch 54/64\n",
            "\u001b[1m113/113\u001b[0m \u001b[32m━━━━━━━━━━━━━━━━━━━━\u001b[0m\u001b[37m\u001b[0m \u001b[1m1s\u001b[0m 11ms/step - accuracy: 0.7964 - loss: 0.4551 - val_accuracy: 0.8129 - val_loss: 0.4392\n",
            "Epoch 55/64\n",
            "\u001b[1m113/113\u001b[0m \u001b[32m━━━━━━━━━━━━━━━━━━━━\u001b[0m\u001b[37m\u001b[0m \u001b[1m1s\u001b[0m 7ms/step - accuracy: 0.7886 - loss: 0.4575 - val_accuracy: 0.7996 - val_loss: 0.4424\n",
            "Epoch 56/64\n",
            "\u001b[1m113/113\u001b[0m \u001b[32m━━━━━━━━━━━━━━━━━━━━\u001b[0m\u001b[37m\u001b[0m \u001b[1m1s\u001b[0m 7ms/step - accuracy: 0.7837 - loss: 0.4634 - val_accuracy: 0.8260 - val_loss: 0.4368\n",
            "Epoch 57/64\n",
            "\u001b[1m113/113\u001b[0m \u001b[32m━━━━━━━━━━━━━━━━━━━━\u001b[0m\u001b[37m\u001b[0m \u001b[1m1s\u001b[0m 7ms/step - accuracy: 0.7948 - loss: 0.4608 - val_accuracy: 0.8115 - val_loss: 0.4477\n",
            "Epoch 58/64\n",
            "\u001b[1m113/113\u001b[0m \u001b[32m━━━━━━━━━━━━━━━━━━━━\u001b[0m\u001b[37m\u001b[0m \u001b[1m1s\u001b[0m 7ms/step - accuracy: 0.7825 - loss: 0.4589 - val_accuracy: 0.7954 - val_loss: 0.4602\n",
            "Epoch 59/64\n",
            "\u001b[1m113/113\u001b[0m \u001b[32m━━━━━━━━━━━━━━━━━━━━\u001b[0m\u001b[37m\u001b[0m \u001b[1m1s\u001b[0m 7ms/step - accuracy: 0.7882 - loss: 0.4592 - val_accuracy: 0.8088 - val_loss: 0.4431\n",
            "Epoch 60/64\n",
            "\u001b[1m113/113\u001b[0m \u001b[32m━━━━━━━━━━━━━━━━━━━━\u001b[0m\u001b[37m\u001b[0m \u001b[1m1s\u001b[0m 7ms/step - accuracy: 0.7882 - loss: 0.4583 - val_accuracy: 0.8143 - val_loss: 0.4461\n",
            "Epoch 61/64\n",
            "\u001b[1m113/113\u001b[0m \u001b[32m━━━━━━━━━━━━━━━━━━━━\u001b[0m\u001b[37m\u001b[0m \u001b[1m1s\u001b[0m 7ms/step - accuracy: 0.7949 - loss: 0.4506 - val_accuracy: 0.8088 - val_loss: 0.4331\n",
            "Epoch 62/64\n",
            "\u001b[1m113/113\u001b[0m \u001b[32m━━━━━━━━━━━━━━━━━━━━\u001b[0m\u001b[37m\u001b[0m \u001b[1m1s\u001b[0m 7ms/step - accuracy: 0.7844 - loss: 0.4586 - val_accuracy: 0.8115 - val_loss: 0.4392\n",
            "Epoch 63/64\n",
            "\u001b[1m113/113\u001b[0m \u001b[32m━━━━━━━━━━━━━━━━━━━━\u001b[0m\u001b[37m\u001b[0m \u001b[1m1s\u001b[0m 8ms/step - accuracy: 0.7963 - loss: 0.4517 - val_accuracy: 0.8193 - val_loss: 0.4139\n",
            "Epoch 64/64\n",
            "\u001b[1m113/113\u001b[0m \u001b[32m━━━━━━━━━━━━━━━━━━━━\u001b[0m\u001b[37m\u001b[0m \u001b[1m1s\u001b[0m 7ms/step - accuracy: 0.7961 - loss: 0.4494 - val_accuracy: 0.8146 - val_loss: 0.4393\n"
          ]
        }
      ],
      "source": [
        "params[\"training_epochs\"] = 64\n",
        "history = train_model(params, model, dataset_train_preprocessed, dataset_val_preprocessed)"
      ]
    },
    {
      "cell_type": "code",
      "execution_count": null,
      "metadata": {
        "outputId": "c1dd9e10-5679-45df-95dd-714fee53a7ca",
        "colab": {
          "base_uri": "https://localhost:8080/",
          "height": 887
        },
        "id": "QIN5id9BzG-e"
      },
      "outputs": [
        {
          "output_type": "display_data",
          "data": {
            "text/plain": [
              "<Figure size 640x480 with 1 Axes>"
            ],
            "image/png": "[encoded data removed]"
          },
          "metadata": {}
        },
        {
          "output_type": "display_data",
          "data": {
            "text/plain": [
              "<Figure size 640x480 with 1 Axes>"
            ],
            "image/png": "[encoded data removed]"
          },
          "metadata": {}
        }
      ],
      "source": [
        "plot_history(history)"
      ]
    },
    {
      "cell_type": "markdown",
      "metadata": {
        "id": "ByecvQmozG-e"
      },
      "source": [
        "Check performance on all data."
      ]
    },
    {
      "cell_type": "code",
      "execution_count": null,
      "metadata": {
        "id": "2G-dV2YVzG-e"
      },
      "outputs": [],
      "source": [
        "from fhnw.nlp.utils.params import predict_classification\n",
        "from fhnw.nlp.utils.ploting import report_classification_results"
      ]
    },
    {
      "cell_type": "code",
      "execution_count": null,
      "metadata": {
        "outputId": "3af4cc7c-53c3-48c1-ea6f-3df3bb6f0ee2",
        "colab": {
          "base_uri": "https://localhost:8080/"
        },
        "id": "G5hVHQrRzG-f"
      },
      "outputs": [
        {
          "output_type": "stream",
          "name": "stdout",
          "text": [
            "\u001b[1m176/176\u001b[0m \u001b[32m━━━━━━━━━━━━━━━━━━━━\u001b[0m\u001b[37m\u001b[0m \u001b[1m1s\u001b[0m 3ms/step\n"
          ]
        }
      ],
      "source": [
        "y, y_pred, y_pred_prob = predict_classification(params, data, model)"
      ]
    },
    {
      "cell_type": "code",
      "execution_count": null,
      "metadata": {
        "outputId": "f4b04d2e-1558-43df-dcc7-1498c7a2d285",
        "colab": {
          "base_uri": "https://localhost:8080/",
          "height": 946
        },
        "id": "hhRXkkHAzG-f"
      },
      "outputs": [
        {
          "output_type": "stream",
          "name": "stdout",
          "text": [
            "Set Population: 22516\n",
            "Accuracy: 0.8286\n"
          ]
        },
        {
          "output_type": "display_data",
          "data": {
            "text/plain": [
              "<Figure size 1000x800 with 2 Axes>"
            ],
            "image/png": "[encoded data removed]"
          },
          "metadata": {}
        },
        {
          "output_type": "stream",
          "name": "stdout",
          "text": [
            "              precision    recall  f1-score   support\n",
            "\n",
            "         neg       0.81      0.99      0.89     16273\n",
            "         pos       0.95      0.40      0.57      6243\n",
            "\n",
            "    accuracy                           0.83     22516\n",
            "   macro avg       0.88      0.70      0.73     22516\n",
            "weighted avg       0.85      0.83      0.80     22516\n",
            "\n",
            "CPU times: user 509 ms, sys: 137 ms, total: 647 ms\n",
            "Wall time: 513 ms\n"
          ]
        }
      ],
      "source": [
        "%%time\n",
        "\n",
        "report_classification_results(params, data[params.get(\"y_column_name\", \"label\")].tolist(), y_pred)"
      ]
    },
    {
      "cell_type": "markdown",
      "metadata": {
        "id": "SvMPFQV2zG-f"
      },
      "source": [
        "Check performance on test data."
      ]
    },
    {
      "cell_type": "code",
      "execution_count": null,
      "metadata": {
        "outputId": "23a86a39-5051-4aac-9970-61a25c7554ee",
        "colab": {
          "base_uri": "https://localhost:8080/"
        },
        "id": "rEHrczdnzG-f"
      },
      "outputs": [
        {
          "output_type": "stream",
          "name": "stdout",
          "text": [
            "\u001b[1m36/36\u001b[0m \u001b[32m━━━━━━━━━━━━━━━━━━━━\u001b[0m\u001b[37m\u001b[0m \u001b[1m0s\u001b[0m 3ms/step\n"
          ]
        }
      ],
      "source": [
        "y_test, y_test_pred, y_test_pred_prob = predict_classification(params, data_test, model)"
      ]
    },
    {
      "cell_type": "code",
      "execution_count": null,
      "metadata": {
        "outputId": "78aa3d16-cd05-40b9-cd9b-900966a8d119",
        "colab": {
          "base_uri": "https://localhost:8080/",
          "height": 946
        },
        "id": "_E5lDRIjzG-f"
      },
      "outputs": [
        {
          "output_type": "stream",
          "name": "stdout",
          "text": [
            "Set Population: 4504\n",
            "Accuracy: 0.8135\n"
          ]
        },
        {
          "output_type": "display_data",
          "data": {
            "text/plain": [
              "<Figure size 1000x800 with 2 Axes>"
            ],
            "image/png": "[encoded data removed]"
          },
          "metadata": {}
        },
        {
          "output_type": "stream",
          "name": "stdout",
          "text": [
            "              precision    recall  f1-score   support\n",
            "\n",
            "         neg       0.80      0.99      0.88      3255\n",
            "         pos       0.93      0.35      0.51      1249\n",
            "\n",
            "    accuracy                           0.81      4504\n",
            "   macro avg       0.86      0.67      0.70      4504\n",
            "weighted avg       0.84      0.81      0.78      4504\n",
            "\n",
            "CPU times: user 290 ms, sys: 94.7 ms, total: 385 ms\n",
            "Wall time: 278 ms\n"
          ]
        }
      ],
      "source": [
        "%%time\n",
        "\n",
        "report_classification_results(params, data_test[params.get(\"y_column_name\", \"label\")].tolist(), y_test_pred)"
      ]
    },
    {
      "cell_type": "markdown",
      "source": [
        "# Conclusion\n",
        "\n",
        "The result for positive tweets is not satisfying - I conclude, we have too few positive tweets and in a production setting I would try to get more data or use data augmentation techniques.\n",
        "\n",
        "We will get back at this approach after the introduction of a transformer model."
      ],
      "metadata": {
        "id": "Ds5gX0Is6PW_"
      }
    }
  ]
}